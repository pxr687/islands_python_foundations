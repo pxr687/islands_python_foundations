{
 "cells": [
  {
   "cell_type": "markdown",
   "metadata": {},
   "source": [
    "###  Islands: Python Foundations \n",
    "\n",
    "[Back to Main Page](0_main_page.ipynb)\n",
    "\n",
    "# How to use this book on Deepnote\n",
    "\n",
    "To use this textbook interactive you will need to create a Deepnote account and duplicate the textbook into your own user area. In order to do this, follow these instructions:\n",
    "\n",
    "1. If you do not have an account, click `Create account` at the top right hand side of the screen.\n",
    "\n",
    "2. Once you have an account, click the `Duplicate` button at the top right hand side of the screen.\n",
    " \n",
    "![](https://github.com/pxr687/islands_python_foundations/blob/master/images/deepnote_1.png?raw=true')\n",
    "\n",
    "3. A new menu you should pop up after you have clicked `Duplicate`. On the popup menu, select the folder you would like to duplicate to, and then press `Duplicate` at the bottom right of the popup menu:\n",
    "\n",
    "![](https://github.com/pxr687/islands_python_foundations/blob/master/images/deepnote_2.png?raw=true')\n",
    "\n",
    "4. After you have duplicated the project, you will see the following screen, which says 'Please select a file'. Click the folder icon on the right hand side of the screen:\n",
    "\n",
    "![](https://github.com/pxr687/islands_python_foundations/blob/master/images/deepnote_3.png?raw=true)\n",
    "\n",
    "5. After you have clicked the folder icon, click on `> islands_python_foundations`. A set of files should appear below, select `0_main_page.ipynb`. Press the folder icon again to close the file menu. You won't need to open it again, the book can be navigated solely using links on the pages.\n",
    "\n",
    "![](https://github.com/pxr687/islands_python_foundations/blob/master/images/deepnote_4.png?raw=true')\n"
   ]
  },
  {
   "cell_type": "markdown",
   "metadata": {},
   "source": [
    "[Back to Main Page](0_main_page.ipynb)\n",
    "\n",
    "***\n",
    "By [pxr687](99_about_the_author.ipynb) "
   ]
  }
 ],
 "metadata": {
  "kernelspec": {
   "display_name": "Python 3",
   "language": "python",
   "name": "python3"
  },
  "language_info": {
   "codemirror_mode": {
    "name": "ipython",
    "version": 3
   },
   "file_extension": ".py",
   "mimetype": "text/x-python",
   "name": "python",
   "nbconvert_exporter": "python",
   "pygments_lexer": "ipython3",
   "version": "3.7.3"
  }
 },
 "nbformat": 4,
 "nbformat_minor": 5
}
