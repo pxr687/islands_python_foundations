{
 "cells": [
  {
   "cell_type": "markdown",
   "id": "waiting-framing",
   "metadata": {},
   "source": [
    "###  Islands: Python Foundations \n",
    "\n",
    "[Back to Main Page](0_main_page.ipynb)\n",
    "\n",
    "# How to use the exercises in this book (locally, on your computer)\n",
    "\n",
    "1. [Download Anaconda](https://docs.anaconda.com/anaconda/install/) - this will install Python on your computer, as well as Jupyter Notebook, which is the format this textbook is written in. \n",
    "\n",
    "2. Open Jupyter Notebook, type `pip install Okpy` into a cell and run it (by clicking on the cell and pressing `Shift` and `Enter` at the same time. This will install the [Okpy](https://okpy.org/) library which is needed to mark the answers to the exercises in this textbook:\n",
    "\n",
    "![](https://github.com/pxr687/islands_python_foundations/blob/master/images/jupyter_instruct.png?raw=true') \n",
    "\n",
    "3. Go to [github repository that hosts the source code for this book](https://github.com/pxr687/islands_python_foundations). Click the `Code` button towards the top right of the page, and select `Download ZIP`:\n",
    "\n",
    "![](https://github.com/pxr687/islands_python_foundations/blob/master/images/github_instruct.png?raw=true)\n",
    "\n",
    "4. Once you have downloaded the folder, you will need to copy/paste it into the path that Jupyter Notebook uses on your computer. If you don't know what the path directory is, then open Jupyter Notebook, type `pwd` into a cell and run it (by clicking on the cell and pressing `Shift` and `Enter` at the same time). This will show you the current directory Jupyter is using: \n",
    "\n",
    "![](https://github.com/pxr687/islands_python_foundations/blob/master/images/pwd_instruct.PNG?raw=true)\n",
    "\n",
    "5. Move the downloaded folder into Jupyter's path directory, and then unzip the folder.\n",
    "\n",
    "6. Once the folder is unzipped, from within Jupyter Notebook, open the folder and then begin by launching the file called `0_main_page.ipynb`:\n",
    "\n",
    "![](https://github.com/pxr687/islands_python_foundations/blob/master/images/main_page_instruct.PNG?raw=true)"
   ]
  },
  {
   "cell_type": "markdown",
   "id": "caroline-floating",
   "metadata": {},
   "source": [
    "[Back to Main Page](0_main_page.ipynb)\n",
    "\n",
    "***\n",
    "By [pxr687](99_about_the_author.ipynb) "
   ]
  }
 ],
 "metadata": {
  "kernelspec": {
   "display_name": "Python 3",
   "language": "python",
   "name": "python3"
  },
  "language_info": {
   "codemirror_mode": {
    "name": "ipython",
    "version": 3
   },
   "file_extension": ".py",
   "mimetype": "text/x-python",
   "name": "python",
   "nbconvert_exporter": "python",
   "pygments_lexer": "ipython3",
   "version": "3.7.9"
  }
 },
 "nbformat": 4,
 "nbformat_minor": 5
}
