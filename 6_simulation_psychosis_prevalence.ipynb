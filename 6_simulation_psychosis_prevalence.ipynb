{
 "cells": [
  {
   "cell_type": "markdown",
   "id": "ca8adc5e",
   "metadata": {},
   "source": [
    "###  Islands: Python Foundations - Chapter 6\n",
    "\n",
    "[Back to Main Page](0_main_page.ipynb)\n",
    "\n",
    "[How to use this book interactively on Deepnote](99_how_to_use_this_book.ipynb)\n",
    "\n",
    "[Download this book](99_how_to_use_this_book_local.ipynb)\n",
    "\n",
    "<br>\n",
    "\n",
    "<h1> <center> Testing via Simulation: Psychosis Prevalence </center> </h1>  "
   ]
  },
  {
   "cell_type": "markdown",
   "id": "04a1e55e",
   "metadata": {},
   "source": [
    "<br>\n",
    "\n",
    "<center> <img src=\"https://github.com/pxr687/islands_python_foundations/blob/master/images/mapgen4-187 (7).png?raw=true\" width=\"300\"> </center>\n",
    "\n",
    "<br>\n",
    "\n",
    "\n",
    "## Importing Libraries\n",
    "\n",
    "As before, the cell below imports the libraries we need. \n",
    "\n",
    "Once again, <b> it is very important you run each cell in this notebook in the order in which they appear. </b> Later cells depend on the activity of earlier cells.\n",
    "\n",
    "<br>\n",
    "<br>\n",
    "<center> ↓↓↓ <b> Before reading on, please run the cell below</b>. Click on the cell and press `shift` and `Enter` together.↓↓↓ </center>"
   ]
  },
  {
   "cell_type": "code",
   "execution_count": 33,
   "id": "d5e80d63",
   "metadata": {},
   "outputs": [
    {
     "data": {
      "image/png": "[encoded data removed]",
      "text/plain": [
       "<Figure size 432x288 with 1 Axes>"
      ]
     },
     "metadata": {
      "needs_background": "light"
     },
     "output_type": "display_data"
    },
    {
     "name": "stdout",
     "output_type": "stream",
     "text": [
      "P-value =  0.0198\n"
     ]
    }
   ],
   "source": [
    "# run this cell (by pressing 'Control' and 'Enter' together) to import the libraries needed for this page\n",
    "\n",
    "import numpy as np\n",
    "import pandas as pd\n",
    "import matplotlib.pyplot as plt\n",
    "\n",
    "# generating sample of 100 from island\n",
    "\n",
    "sample_status = np.random.choice(['psychotic', 'not_psychotic'], p = [0.08, 0.92], size = 100)\n",
    "\n",
    "actual_prop = np.count_nonzero(sample_status =='psychotic')/len(sample_status)\n",
    "\n",
    "# prevalence on other islands is about 2%\n",
    "\n",
    "# simulating an island of 10,000 people generated with a 2% chance of being psychotic\n",
    "\n",
    "fake_population = np.random.choice(['psychotic', 'not_psychotic'], p = [0.02, 0.98], size = 10000)\n",
    "\n",
    "number_of_iterations = 10000\n",
    "\n",
    "fake_proportions = np.zeros(number_of_iterations)\n",
    "\n",
    "for i in np.arange(number_of_iterations):\n",
    "    \n",
    "    fake_sample = np.random.choice(fake_population, size = 100)\n",
    "    \n",
    "    proportion_psychotic_fake_sample = np.count_nonzero(fake_sample == 'psychotic')/len(fake_sample)\n",
    "    \n",
    "    fake_proportions[i] = proportion_psychotic_fake_sample\n",
    "    \n",
    "plt.hist(fake_proportions, bins = 6)\n",
    "plt.plot(actual_prop, 10, 'o', color = 'red')\n",
    "plt.show();\n",
    "\n",
    "print('P-value = ', np.count_nonzero(fake_proportions >= actual_prop)/len(fake_proportions))"
   ]
  },
  {
   "cell_type": "code",
   "execution_count": null,
   "id": "ad484ce1",
   "metadata": {},
   "outputs": [],
   "source": []
  },
  {
   "cell_type": "markdown",
   "id": "04751ea5",
   "metadata": {},
   "source": [
    "You can practice with the [Permutation Test Question Generator](99_permutation_test_question_gen.ipynb).\n",
    "\n",
    "Or, you can [return to the main page](0_main_page.ipynb).\n",
    "\n",
    "To navigate to any other page, the table of contents is below:\n",
    "\n",
    "## Other Chapters\n",
    "\n",
    "1. [Populations, Samples & Questions: Why Learn Python?](1_populations_samples_questions.ipynb)\n",
    "2. [Lists & Indexing](2_lists_indexing.ipynb)\n",
    "3. [Arrays & Boolean Indexing](3_arrays_booleans.ipynb)\n",
    "4. [Functions, Plotting & Another Clinical Trial](4_functions_plotting.ipynb)\n",
    "5. [For Loops - doing things over (and over and over...)](5_for_loops.ipynb)\n",
    "6. [Testing via Simulation: Psychosis Prevalence](6_simulation_psychosis_prevalence.ipynb)\n",
    "7. [Pandas DataFrames](7_pandas_dataframes.ipynb)\n",
    "8. [Testing via Simulation II: Pollutant Exposure](8_simulation_pollution_impairment.ipynb)\n",
    "\n",
    "Other pages: <br>\n",
    "[Permutation Test Question Generator](99_permutation_test_question_gen.ipynb)"
   ]
  },
  {
   "cell_type": "markdown",
   "id": "10136f99",
   "metadata": {},
   "source": [
    "***\n",
    "By [pxr687](99_about_the_author.ipynb) "
   ]
  }
 ],
 "metadata": {
  "kernelspec": {
   "display_name": "Python 3 (ipykernel)",
   "language": "python",
   "name": "python3"
  },
  "language_info": {
   "codemirror_mode": {
    "name": "ipython",
    "version": 3
   },
   "file_extension": ".py",
   "mimetype": "text/x-python",
   "name": "python",
   "nbconvert_exporter": "python",
   "pygments_lexer": "ipython3",
   "version": "3.7.11"
  }
 },
 "nbformat": 4,
 "nbformat_minor": 5
}
