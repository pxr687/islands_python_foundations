{
 "cells": [
  {
   "cell_type": "markdown",
   "metadata": {},
   "source": [
    "###  Islands: Python Foundations -  Chapter 2\n",
    "\n",
    "[Back to Main Page](0_main_page.ipynb)\n",
    "\n",
    "[How to use this book interactively on Deepnote](99_how_to_use_this_book.ipynb)\n",
    "\n",
    "[Download this book](99_how_to_use_this_book_local.ipynb)\n",
    "\n",
    "<br>\n",
    "\n",
    "<h1> <center> Types of Variable, Lists & Indexing </center> </h1> "
   ]
  },
  {
   "cell_type": "markdown",
   "metadata": {},
   "source": [
    "## Importing Libraries\n",
    "The code cell below (the cell with the darker background) imports the libraries we need for this page. This gives us a set of extra functions - these functions are just pre-written bits of code which do useful things.\n",
    "\n",
    "Once again, <b> it is very important you run each cell in this notebook in the order in which they appear. </b> Later cells depend on the activity of earlier cells. \n",
    "\n",
    "<br>\n",
    "<center> ↓↓↓ <b> Before reading on, please run the code cell below</b>. Click on the cell and press `shift` and `Enter` together. ↓↓↓ </center>\n",
    "<br>\n",
    "\n",
    "*Note: the comments in the code cell below (written after the symbol `#`), explain what each line is doing...*"
   ]
  },
  {
   "cell_type": "code",
   "execution_count": 2,
   "metadata": {},
   "outputs": [
    {
     "name": "stderr",
     "output_type": "stream",
     "text": [
      "C:\\Users\\rushpz\\AppData\\Roaming\\Python\\Python37\\site-packages\\pandas\\compat\\_optional.py:138: UserWarning: Pandas requires version '2.7.0' or newer of 'numexpr' (version '2.6.9' currently installed).\n",
      "  warnings.warn(msg, UserWarning)\n"
     ]
    },
    {
     "name": "stdout",
     "output_type": "stream",
     "text": [
      "=====================================================================\n",
      "Assignment: 2_lists_indexing\n",
      "OK, version v1.18.1\n",
      "=====================================================================\n",
      "\n"
     ]
    }
   ],
   "source": [
    "# run this cell (by pressing 'Control' and 'Enter' together) to import the libraries needed for \n",
    "# this page\n",
    "\n",
    "# 'import' tells python to get a set of functions (which is called a library), in the first case this is \n",
    "# the numpy library. The 'as' tells python to name the library something (to save us typing out 'numpy'); in this case\n",
    "# we name the library 'np'\n",
    "import numpy as np\n",
    "\n",
    "# in this case we import the pandas library and name it 'pd'\n",
    "import pandas as pd\n",
    "\n",
    "# here we import the matplotlib.pyplot library and name it 'plt'\n",
    "import matplotlib.pyplot as plt\n",
    "\n",
    "# this imports the machinery for marking answers to questions\n",
    "from client.api.notebook import Notebook\n",
    "ok = Notebook('ok_tests/2_lists_indexing.ok')"
   ]
  },
  {
   "cell_type": "markdown",
   "metadata": {},
   "source": [
    "<br>\n",
    "\n",
    "<center> <img src=\"https://github.com/pxr687/islands_python_foundations/blob/master/images/mapgen4-187 (2).png?raw=true\" width=\"300\"> </center>\n",
    "\n",
    "<br>\n",
    "\n",
    "## A psychotic island\n",
    "\n",
    "\n",
    "Imagine again, as on the [Populations, Samples, Questions](1_populations_samples_questions.ipynb) page, that you are part of a group of scientists who have visited an island which is beset by several public health problems. \n",
    "\n",
    "Recall that your research group is here to do several things:\n",
    "\n",
    "* to help analyse data from two clinical trials which are happening on the island. One trial is of a new drug hypothesized to reduce cognitive impairment. The other trial is of a new drug hypothesized to reduce psychotic symptoms.\n",
    "* to investigate the hypothesis that the prevalence of psychotic disorders is higher on the island, and if there is increased prevalence, whether pollution may be causally related to this\n",
    "* to investigate the hypothesis that pollution is causally related to the increased prevalence of cognitive impairment.\n",
    "\n",
    "We saw the results of the first clinical trial the [previous page](1_populations_samples_questions.ipynb). On the present page, we will investigate a claim made by a psychiatric epidemiologist in your research group. The claim is that, relative to islands in the surrounding area, an unusually high percentage of the citizens of this island suffer from psychotic disorders.  \n",
    "\n",
    "In statistical terms, the epidemiologist is claiming that the population of this island has a high prevalence of psychotic disorders. 'Prevalence' is defined as:\n",
    "\n",
    "\n",
    "<i> '[...] the probability of currently having the disease regardless of the duration of time one has had the disease. Prevalence is obtained by dividing the number of people who currently have the disease by the number of people in the study population.' (Rosner, Fundamentals of Biostatistics, 2015, pg. 64) </i>\n",
    "\n",
    "So, prevalence can be expressed formally as:\n",
    "\n",
    "$ \\Large \\text{prevalence} = \\frac{\\text{number of people who currently have disease}}{\\text{total number of people in the population}} $\n",
    "\n",
    "Python is a powerful tool to test claims of this sort, as it gives you many ways of representing elements of the world, and the relations between them.\n",
    "\n",
    "Let's think about what the claim is, and how we can evaluate it.\n",
    "\n",
    "The claim (or hypothesis) is about the *population* of the island. Assuming that it is unfeasible to test the entire population of the island for psychotic disorders (as there are 1000 people!), we are going to have to take a *sample* of the islanders. From this sample we need to make an *inference* about the rest of the population: we are going to have to infer, based on our sample, whether the the prevalence on the island is higher than on other islands in the surrounding area. <b> The prevalence of psychotic disorders on the surrounding islands is 1%. </b>\n",
    "\n",
    "Python gives us a variety of tools which are useful at every stage of this process. It gives us ways of storing, cleaning and  analysing data. The rest of this book will go through the tools we need to test the psychiatrist's claim..."
   ]
  },
  {
   "cell_type": "markdown",
   "metadata": {},
   "source": [
    "## Types of variable\n",
    "\n",
    "A variable is anything we can measure/record that vary between observations. As mentioned earlier, many interesting questions can be boiled down to being about the relationship between variables.\n",
    "\n",
    "Variables come in different types. That can sound a bit abstract, but to work out what type of variable something is it's easiest to think about in terms of I will call the *lab book principle* (I got this idea from the [Handbook of Biological Statistics](http://www.biostathandbook.com/variabletypes.html)). Think of some variables (things we can measure), here are a few I've just thought of, from looking out of my window:\n",
    "\n",
    "* Number of children of each adult living on a street\n",
    "* Age of each person living on a street\n",
    "* Religion of each person living on a street\n",
    "* Life satisfaction of each person living on a street\n",
    "\n",
    "The *lab book principle* states: to work out what type of variable something is, think about how you would record each observation in a lab book.\n",
    "\n",
    "So for the number of children each person has we would write a number (0, 1, 2, 3 and so on).\n",
    "\n",
    "For each person's age we would probably write also write a number. Though if we wanted to write their exact age (55.586759 years etc.) we could measure that to an arbitrary level of precision. This is unlike the number of children, which has to be a whole number.\n",
    "\n",
    "For the religion of each person we would write down a label ('Buddhist', 'Sikh', 'Christian', 'Muslim', 'Jewish', 'Atheist' etc.).\n",
    "\n",
    "For the life satisfaction of each person, we could ask them to rate their life satisfaction on a numerical scale (between 1 and 7 for instance) or we could ask them to select from a set of ordered labels (e.g.: 'very unsatisfied', 'unsatisfied', 'neither satisfied or unsatisfied', 'satisfied', 'very satisfied').\n",
    "\n",
    "The type of variable we are dealing with influences the analysis methods we can use, and they also lend themselves to being represented in different ways in any programming language we might use. Here are some useful ways of categorizing types of variable:\n",
    "\n",
    "\n",
    "<b> Quantitative </b>:\n",
    "\n",
    "For quantitative varibales, each observation in a lab book takes the form of a number. Quantitative variables can be further classified into:\n",
    "\n",
    "   * *Quantitative discrete* - each observation in the lab book can take only specific numerical values (often integers) within a specific interval. E.g. if we were recording 'number of children of each person on a street', this can take only whole number values from 0 to a very high whole number (whatever the maximum possible number of children that a person could have is...) \n",
    "   \n",
    "   <br>\n",
    "   \n",
    "   * *Quantitative continuous* - each observation in the lab book can take any numerical value in a specific interval e.g. if we were recording 'age of every person on a street', then theoretically we could measure time to some arbitrary level of precision (a huge number of decimal places).\n",
    "\n",
    "<b> Categorical </b>:\n",
    "   \n",
    "   * *Ordinal categorical* - each observation in the lab book takes the form of a category label, and the labels can be meaningfully ordered. E.g. the labels 'very unsatisfied', 'unsatisfied', 'neither satisfied or unsatisfied', 'satisfied', 'very satisfied' have an obvious ordering in terms of level of satisfaction (from low to high satisfaction). One way of thinking of what 'meaningfully ordered' means, is that if we had the labels on the axis of a graph, could we re-arrange the order without losing any information? Obviously if we jumbled up the satisfaction labels, we would obscure the information on the graph. Ideally we want the labels on the axis ranging from low to high. \n",
    "   \n",
    "   <br>\n",
    "      \n",
    "   * *Nominal categorical* - each observation in the lab book takes the form of a category label ('Buddhist', 'Sikh', 'Christian', etc.) but the categories cannot be meaningfully ordered. One way of thinking of this, is that if we had the labels on the axis of a graph, could we re-arrange the order without losing any information?  \n",
    "   \n",
    "\n",
    "### Univariate plots\n",
    "\n",
    "Different types of variable lend themselves to different types of graph. \n",
    "\n",
    "[Plot of one variable is called a univariate plot]"
   ]
  },
  {
   "cell_type": "code",
   "execution_count": 3,
   "metadata": {},
   "outputs": [
    {
     "data": {
      "image/png": "[encoded data removed]",
      "text/plain": [
       "<Figure size 432x288 with 1 Axes>"
      ]
     },
     "metadata": {
      "needs_background": "light"
     },
     "output_type": "display_data"
    }
   ],
   "source": [
    "# histogtam for quantitative data\n",
    "plt.hist(np.random.normal(36, 12, size = 200))\n",
    "\n",
    "# add axis labels to make it clearer what the histogram shows\n",
    "plt.xlabel('Age')\n",
    "plt.ylabel('Frequency')\n",
    "\n",
    "# the code below just shows the plot without any unnecessary output\n",
    "plt.show()"
   ]
  },
  {
   "cell_type": "markdown",
   "metadata": {},
   "source": [
    "[Explain how to read histogram]\n",
    "\n",
    "[Can be used for continuous and discrete quantitative variables] \n",
    "\n",
    "[Bar plot for categorical variables]"
   ]
  },
  {
   "cell_type": "code",
   "execution_count": 14,
   "metadata": {},
   "outputs": [
    {
     "data": {
      "image/png": "[encoded data removed]",
      "text/plain": [
       "<Figure size 432x288 with 1 Axes>"
      ]
     },
     "metadata": {
      "needs_background": "light"
     },
     "output_type": "display_data"
    }
   ],
   "source": [
    "\n",
    "# bar plot for ordinal categorical data\n",
    "plt.bar(['very unsatisfied', 'unsatisfied', 'neither satisfied or unsatisfied', 'satisfied', 'very satisfied'], np.random.normal(100, 20, 5))\n",
    "plt.xticks(rotation=80)\n",
    "plt.ylabel('Frequency')\n",
    "plt.show()"
   ]
  },
  {
   "cell_type": "markdown",
   "metadata": {},
   "source": [
    "[some OKpy questions about variable types]\n",
    "\n",
    "`Quantitative discrete`\n",
    "`Quantitative continous`\n",
    "`Ordinal categorical`\n",
    "`Nominal categorical`\n",
    "\n",
    "Set the answer to the correct variable type.\n",
    "\n",
    "### Question 1"
   ]
  },
  {
   "cell_type": "code",
   "execution_count": null,
   "metadata": {},
   "outputs": [],
   "source": [
    "temperature = ..."
   ]
  },
  {
   "cell_type": "code",
   "execution_count": null,
   "metadata": {},
   "outputs": [],
   "source": [
    "number_of_violent_incidents =..."
   ]
  },
  {
   "cell_type": "code",
   "execution_count": null,
   "metadata": {},
   "outputs": [],
   "source": [
    "type_of_violent_incident = ..."
   ]
  },
  {
   "cell_type": "markdown",
   "metadata": {},
   "source": [
    "[exceptions of ordinal data, categorized variables, distinction between what the variable is vs how you treat it]\n",
    "\n",
    "[Discuss psychosis prevalence in terms of the discussion about variables]"
   ]
  },
  {
   "cell_type": "markdown",
   "metadata": {},
   "source": [
    "## Lists\n",
    "\n",
    "Firstly, we are going to need a way of storing the data we have collected. One way of storing data in python is in a `list`. \n",
    "\n",
    "Imagine we go to the island and, during some exploratory data collection, the psychiatrist in the research group observes 5 islanders, in a [convenience sample](https://research-methodology.net/sampling-in-primary-data-collection/convenience-sampling/). The psychiatrist determines whether or not each participant is currently experiencing an episode of psychosis. This assessment is made based on the overt behaviour of the participants, and their score on a psychiatric questionairre. Some other data (on demographic variables, and the name of each participant) is also collected for each of the 5 individuals. \n",
    "\n",
    "We could store the results of these observations in a python ```list```. \n",
    "\n",
    "In python, a list is a collection of elements stored between square brackets and separated by commas. The list below contains the psychiatrist's diagnosis of the 5 people we observed on the island:"
   ]
  },
  {
   "cell_type": "code",
   "execution_count": 2,
   "metadata": {},
   "outputs": [
    {
     "data": {
      "text/plain": [
       "['psychotic', 'not_psychotic', 'not_psychotic', 'not_psychotic', 'psychotic']"
      ]
     },
     "execution_count": 2,
     "metadata": {},
     "output_type": "execute_result"
    }
   ],
   "source": [
    "['psychotic', 'not_psychotic', 'not_psychotic', 'not_psychotic', 'psychotic']"
   ]
  },
  {
   "cell_type": "markdown",
   "metadata": {},
   "source": [
    "We can store this list as a ```variable```. We can do this by typing the name we want to give to the variable, followed by an equals sign, followed by the list. \n",
    "\n",
    "So, for example, the cell below shows the discipline of each scientist in the research group visiting the island:"
   ]
  },
  {
   "cell_type": "code",
   "execution_count": 3,
   "metadata": {},
   "outputs": [
    {
     "data": {
      "text/plain": [
       "['anthropology',\n",
       " 'psychology',\n",
       " 'criminology',\n",
       " 'psychiatry',\n",
       " 'medicine',\n",
       " 'neuroscience']"
      ]
     },
     "execution_count": 3,
     "metadata": {},
     "output_type": "execute_result"
    }
   ],
   "source": [
    "['anthropology', 'psychology', 'criminology', 'psychiatry', 'medicine', 'neuroscience']"
   ]
  },
  {
   "cell_type": "markdown",
   "metadata": {},
   "source": [
    "Let's say we wanted to store this list as a variable called `list_of_disciplines`. We would do this with the command in the cell below:"
   ]
  },
  {
   "cell_type": "code",
   "execution_count": 4,
   "metadata": {},
   "outputs": [],
   "source": [
    "list_of_disciplines = ['anthropology', 'psychology', 'criminology', 'psychiatry', 'medicine', 'neuroscience']"
   ]
  },
  {
   "cell_type": "markdown",
   "metadata": {},
   "source": [
    "Now the list is stored in our computer's memory, and can be retrieved using the name `list_of_disciplines`. We can retrieve the list by typing its name in a cell and running it:"
   ]
  },
  {
   "cell_type": "code",
   "execution_count": 5,
   "metadata": {},
   "outputs": [
    {
     "data": {
      "text/plain": [
       "['anthropology',\n",
       " 'psychology',\n",
       " 'criminology',\n",
       " 'psychiatry',\n",
       " 'medicine',\n",
       " 'neuroscience']"
      ]
     },
     "execution_count": 5,
     "metadata": {},
     "output_type": "execute_result"
    }
   ],
   "source": [
    "list_of_disciplines"
   ]
  },
  {
   "cell_type": "markdown",
   "metadata": {},
   "source": [
    "### Question 1\n",
    "\n",
    "Let's return to the list of the psychosis status of the first five individuals we observed on the island:"
   ]
  },
  {
   "cell_type": "code",
   "execution_count": 6,
   "metadata": {},
   "outputs": [
    {
     "data": {
      "text/plain": [
       "['psychotic', 'not_psychotic', 'not_psychotic', 'not_psychotic', 'psychotic']"
      ]
     },
     "execution_count": 6,
     "metadata": {},
     "output_type": "execute_result"
    }
   ],
   "source": [
    "['psychotic', 'not_psychotic', 'not_psychotic', 'not_psychotic', 'psychotic']"
   ]
  },
  {
   "cell_type": "markdown",
   "metadata": {},
   "source": [
    "Let's store this list as a variable, so we can access it when we need it. Let's call our list ```psychosis_status_observations```. \n",
    "\n",
    "In the cell below, store the list of psychosis statuses as a variable called `psychosis_status_observations`:"
   ]
  },
  {
   "cell_type": "code",
   "execution_count": 7,
   "metadata": {},
   "outputs": [],
   "source": [
    "psychosis_status_observations = ..."
   ]
  },
  {
   "cell_type": "code",
   "execution_count": 8,
   "metadata": {
    "scrolled": false
   },
   "outputs": [
    {
     "name": "stdout",
     "output_type": "stream",
     "text": [
      "~~~~~~~~~~~~~~~~~~~~~~~~~~~~~~~~~~~~~~~~~~~~~~~~~~~~~~~~~~~~~~~~~~~~~\n",
      "Running tests\n",
      "\n",
      "---------------------------------------------------------------------\n",
      "Question > Suite 1 > Case 1\n",
      "\n",
      ">>> # psychosis_status_observations is not a list! A list is a collection of items, surrounded by sqaure brackets. E.g.: [1,2,3,4,5] is a list.\n",
      ">>> type(psychosis_status_observations) == list\n",
      "False\n",
      "\n",
      "# Error: expected\n",
      "#     True\n",
      "# but got\n",
      "#     False\n",
      "\n",
      "Run only this test case with \"python3 ok -q q1 --suite 1 --case 1\"\n",
      "---------------------------------------------------------------------\n",
      "Test summary\n",
      "    Passed: 0\n",
      "    Failed: 1\n",
      "[k..........] 0.0% passed\n",
      "\n"
     ]
    }
   ],
   "source": [
    "# run this cell to check your answer\n",
    "_ = ok.grade('q1')"
   ]
  },
  {
   "cell_type": "markdown",
   "metadata": {},
   "source": [
    "Now, to view the contents of the list, we can type the name of the list and run the cell:"
   ]
  },
  {
   "cell_type": "code",
   "execution_count": 9,
   "metadata": {},
   "outputs": [
    {
     "data": {
      "text/plain": [
       "Ellipsis"
      ]
     },
     "execution_count": 9,
     "metadata": {},
     "output_type": "execute_result"
    }
   ],
   "source": [
    "psychosis_status_observations"
   ]
  },
  {
   "cell_type": "markdown",
   "metadata": {},
   "source": [
    "You might have noticed that each element of the list has ```'``` either side of it. This is because the elements of this list are *strings* - which is just a name for text in python. It is important to place either ```'``` or ```\"``` either side of a string so python knows it is a string. If you do not place ```'``` or ```\"``` either side of the string, then python will think the elemt is a variable - like our ```psychosis_status_observations``` list - rather than a string:"
   ]
  },
  {
   "cell_type": "code",
   "execution_count": 10,
   "metadata": {},
   "outputs": [
    {
     "data": {
      "text/plain": [
       "Ellipsis"
      ]
     },
     "execution_count": 10,
     "metadata": {},
     "output_type": "execute_result"
    }
   ],
   "source": [
    "psychosis_status_observations"
   ]
  },
  {
   "cell_type": "code",
   "execution_count": 11,
   "metadata": {
    "scrolled": true
   },
   "outputs": [
    {
     "data": {
      "text/plain": [
       "'psychosis_status_observations'"
      ]
     },
     "execution_count": 11,
     "metadata": {},
     "output_type": "execute_result"
    }
   ],
   "source": [
    "'psychosis_status_observations'"
   ]
  },
  {
   "cell_type": "markdown",
   "metadata": {},
   "source": [
    "We can store other types of data in a list. In order to arrive at the judgments of ```psychotic``` or ```not_psychotic``` for the observations list, our psychiatrist friend collected questionairre scores for each person we observed. \n",
    "\n",
    "The questionairre measures the number/intensity of psychotic symptoms that a person is experiencing. Here is the list containing the psychosis scores for the 5 people we observed:"
   ]
  },
  {
   "cell_type": "code",
   "execution_count": 12,
   "metadata": {},
   "outputs": [
    {
     "data": {
      "text/plain": [
       "[80, 20, 14, 13, 91]"
      ]
     },
     "execution_count": 12,
     "metadata": {},
     "output_type": "execute_result"
    }
   ],
   "source": [
    "psychosis_scores = [80, 20, 14, 13, 91] # this line stores the scores, as a list, in a variable called 'psychosis_scores'\n",
    "psychosis_scores  # this line shows us the contests of the list"
   ]
  },
  {
   "cell_type": "markdown",
   "metadata": {},
   "source": [
    "The type of data in the ```psychosis_scores``` list is ```int``` - meaning *integer* (whole number, no decimal places). So, each element in the list is of the ```int``` type. \n",
    "\n",
    "It is important to keep in mind which type of data you are dealing with, as certain operations in python only work with specific types of data. We will see this in more detail later on.\n",
    "\n",
    "`strings`, `ints` and `floats` (numbers with decimal places) are some of the foundational data types used in python. `floats` and `ints` are generally most useful for representing quantitative variables (variables where each observation is a number). `strings` are generally most useful for representing categorical variables (variables where each observation is a category)."
   ]
  },
  {
   "cell_type": "markdown",
   "metadata": {},
   "source": [
    "## Indexing a list"
   ]
  },
  {
   "cell_type": "markdown",
   "metadata": {},
   "source": [
    "Imagine the psychiatrist inititally collected the data by writing each individual's score in a lab book.\n",
    "\n",
    "The psychiatrist is checking that the data has been entered into python correctly (checking data quality is an extremely important (albeit boring) part of data analysis). \n",
    "\n",
    "The psychiatrist asks us to tell them whether or not the third person they observed was psychotic, to check the answer from data stored in the python list corresponds to the data in their lab book. \n",
    "\n",
    "We could check whether the third person observed was psychotic simply by looking at the list, counting up until the third person, and then reading whether or not they were psychotic. Do this now and see if the third person in the ```psychosis_status_observations``` list was psychotic."
   ]
  },
  {
   "cell_type": "code",
   "execution_count": 13,
   "metadata": {},
   "outputs": [
    {
     "data": {
      "text/plain": [
       "Ellipsis"
      ]
     },
     "execution_count": 13,
     "metadata": {},
     "output_type": "execute_result"
    }
   ],
   "source": [
    "psychosis_status_observations"
   ]
  },
  {
   "cell_type": "markdown",
   "metadata": {},
   "source": [
    "If we want python to do this for us we can use square brackets, placed immediately after the name of the variable. This is called *indexing*. We type the name of the list, followed by square brackets containing the index number of the element we would like to retrieve.\n",
    "\n",
    "It is very important to know that in Python (and many other computer languages) we begin counting from 0. \n",
    "\n",
    "So, if we want to get the *first* element from the ```psychosis_status_observations``` list we would type:"
   ]
  },
  {
   "cell_type": "code",
   "execution_count": 14,
   "metadata": {},
   "outputs": [
    {
     "ename": "TypeError",
     "evalue": "'ellipsis' object is not subscriptable",
     "output_type": "error",
     "traceback": [
      "\u001b[1;31m---------------------------------------------------------------------------\u001b[0m",
      "\u001b[1;31mTypeError\u001b[0m                                 Traceback (most recent call last)",
      "\u001b[1;32m<ipython-input-14-b03d8ef23bbe>\u001b[0m in \u001b[0;36m<module>\u001b[1;34m\u001b[0m\n\u001b[1;32m----> 1\u001b[1;33m \u001b[0mpsychosis_status_observations\u001b[0m\u001b[1;33m[\u001b[0m\u001b[1;36m0\u001b[0m\u001b[1;33m]\u001b[0m\u001b[1;33m\u001b[0m\u001b[1;33m\u001b[0m\u001b[0m\n\u001b[0m",
      "\u001b[1;31mTypeError\u001b[0m: 'ellipsis' object is not subscriptable"
     ]
    }
   ],
   "source": [
    " psychosis_status_observations[0]"
   ]
  },
  {
   "cell_type": "markdown",
   "metadata": {},
   "source": [
    "If we wanted to view the second element we would type:"
   ]
  },
  {
   "cell_type": "code",
   "execution_count": null,
   "metadata": {},
   "outputs": [],
   "source": [
    " psychosis_status_observations[1]"
   ]
  },
  {
   "cell_type": "markdown",
   "metadata": {},
   "source": [
    "Do not worry about the code in the cell below, it is just to generate a table as an illustration, just run the cell and look at the output.\n",
    "\n",
    "The first row in the table above shows the elements in the ```psychosis_status_observations``` list. The second row, called ```index number``` shows the number you would have to put between ```[]``` to access that element of the list."
   ]
  },
  {
   "cell_type": "code",
   "execution_count": null,
   "metadata": {},
   "outputs": [],
   "source": [
    "# do not worry about this code, it just generates the table\n",
    "illustration = pd.DataFrame([psychosis_status_observations,np.arange(len(psychosis_status_observations))], \n",
    "                            columns = ['','','','',''])\n",
    "illustration.index = ['observations:', 'index number:']\n",
    "illustration"
   ]
  },
  {
   "cell_type": "markdown",
   "metadata": {},
   "source": [
    "### Question 2\n",
    "\n",
    "Try and get the third element from the ```psychosis_status_observations``` list, and store it as a variable called `third_element`. \n",
    "\n",
    "Also save the index number which you used in a variable called `index_of_third_element`. "
   ]
  },
  {
   "cell_type": "code",
   "execution_count": null,
   "metadata": {},
   "outputs": [],
   "source": [
    "third_element =  psychosis_status_observations[...\n",
    "\n",
    "index_of_third_element = ...\n",
    "\n",
    "# this line just forces the output of the cell to show us what value is stored in the third_element variable\n",
    "third_element "
   ]
  },
  {
   "cell_type": "code",
   "execution_count": null,
   "metadata": {},
   "outputs": [],
   "source": [
    "# run this cell to check your answer\n",
    "_ = ok.grade('q2')"
   ]
  },
  {
   "cell_type": "markdown",
   "metadata": {},
   "source": [
    "### Question 3\n",
    "Try and get the 5th element from the ```psychosis_status_observations``` list, and store the answer in a variable called `fifth_element`. \n",
    "\n",
    "Also store the index number which you used in a variable called `index_of_third_element`. "
   ]
  },
  {
   "cell_type": "code",
   "execution_count": null,
   "metadata": {},
   "outputs": [],
   "source": [
    "fifth_element =  ...\n",
    "                                            \n",
    "index_of_fifth_element = ...\n",
    "\n",
    "# this line just forces the output of the cell to show us what value is stored in the fifth_element variable\n",
    "fifth_element "
   ]
  },
  {
   "cell_type": "code",
   "execution_count": null,
   "metadata": {},
   "outputs": [],
   "source": [
    "# run this cell to check your answer\n",
    "_ = ok.grade('q3')"
   ]
  },
  {
   "cell_type": "markdown",
   "metadata": {},
   "source": [
    "### Question 4\n",
    "\n",
    "This list below records the biological sex of the individuals we and the psychiatrist observed on the island."
   ]
  },
  {
   "cell_type": "code",
   "execution_count": null,
   "metadata": {},
   "outputs": [],
   "source": [
    "observations_sex = ['male', 'male', 'female', 'female', 'female']"
   ]
  },
  {
   "cell_type": "markdown",
   "metadata": {},
   "source": [
    "Use what you have learned about indexing to retrieve the sex of the 4th person we sampled (REMEMBER: python begins counting from 0, not from 1). Store your answer in a variable called `fourth_person`, and store the index number that you used in a variable called `index_of_fourth_person`:"
   ]
  },
  {
   "cell_type": "code",
   "execution_count": null,
   "metadata": {},
   "outputs": [],
   "source": [
    "fourth_person =  ...\n",
    "                                            \n",
    "index_of_fourth_person = ...\n",
    "\n",
    "\n",
    "# this line just forces the output of the cell to show us what value is stored in the fourth_person variable\n",
    "fourth_person "
   ]
  },
  {
   "cell_type": "code",
   "execution_count": null,
   "metadata": {},
   "outputs": [],
   "source": [
    "# run this cell to check your answer\n",
    "_ = ok.grade('q4')"
   ]
  },
  {
   "cell_type": "markdown",
   "metadata": {},
   "source": [
    "## Slicing\n",
    "\n",
    "Imagine that the psychiatrist wants to check that the data on the biological sex of the first three people we observed has been correctly recorded in python. In order to retrieve this data, we could get one element at a time, by using \n",
    "```observations_sex[0]```, ```observations_sex[1]``` and ```observations_sex[2]```. But there is a faster way: we can use a *slice*.\n",
    "\n",
    "To get a slice from a list, we use a ```:```. To get a slice of the last few elements of a list, put a colon in the square brackets, followed by the index number of the first element that do <b> NOT </b> want in the slice. \n",
    "\n",
    "So, if our list was called `list` and we wanted to get everything *up to but not including* the 4th element we would use:\n",
    "\n",
    "`list[:3]`\n",
    "\n",
    "Remember, because we count the index locations from 0, this means that the index location of the 4th element is `[3]`.\n",
    "\n",
    "So to view a slice of the first three elements of the `observations_sex` list, we type:\n",
    "\n",
    "```{python}\n",
    "observations_sex[:3]\n",
    "```\n",
    "\n",
    "Run the two cells below...\n",
    "\n",
    "You can see that the ```[:3]``` is 'slicing' off the last two elements of the list:"
   ]
  },
  {
   "cell_type": "code",
   "execution_count": null,
   "metadata": {},
   "outputs": [],
   "source": [
    "observations_sex"
   ]
  },
  {
   "cell_type": "code",
   "execution_count": null,
   "metadata": {},
   "outputs": [],
   "source": [
    "observations_sex[:3]"
   ]
  },
  {
   "cell_type": "markdown",
   "metadata": {},
   "source": [
    "If you want to 'slice off' earlier elements in a list, you place the colon <b> AFTER </b> the index number of the first element that you <b> DO </b> want in the slice:"
   ]
  },
  {
   "cell_type": "code",
   "execution_count": null,
   "metadata": {},
   "outputs": [],
   "source": [
    "observations_sex[3:]"
   ]
  },
  {
   "cell_type": "markdown",
   "metadata": {},
   "source": [
    "Run the two cell below...\n",
    "\n",
    "You can see that the ```[3:]``` is 'slicing' off the first three elements of the list:"
   ]
  },
  {
   "cell_type": "code",
   "execution_count": null,
   "metadata": {},
   "outputs": [],
   "source": [
    "observations_sex"
   ]
  },
  {
   "cell_type": "code",
   "execution_count": null,
   "metadata": {},
   "outputs": [],
   "source": [
    "observations_sex[3:]"
   ]
  },
  {
   "cell_type": "markdown",
   "metadata": {},
   "source": [
    "We can get a slice from the middle of a list in exactly the same way, by starting with the index of the first element we want in the list and ending on the first element we <b> do not </b> want in the list.\n",
    "\n",
    "Run the two cells below. The slice in the second cell is produce by using the index `[1:3]`. This tells python to start at the element with index 1 and then stop (and do not include) the element at index location 3:"
   ]
  },
  {
   "cell_type": "code",
   "execution_count": null,
   "metadata": {},
   "outputs": [],
   "source": [
    "observations_sex"
   ]
  },
  {
   "cell_type": "code",
   "execution_count": null,
   "metadata": {},
   "outputs": [],
   "source": [
    "observations_sex[1:3]"
   ]
  },
  {
   "cell_type": "markdown",
   "metadata": {},
   "source": [
    "Slicing (and counting the indexes from 0) can take a bit of getting used to. Run the first cell below (so that the output displays the full `observations_sex` list). Then, in the second cell, experiment with using different slices, and see which elements of the full list are being returned. Experiment with this until you feel comfortable with how slicing works."
   ]
  },
  {
   "cell_type": "code",
   "execution_count": null,
   "metadata": {},
   "outputs": [],
   "source": [
    "# just run this cell\n",
    "observations_sex"
   ]
  },
  {
   "cell_type": "code",
   "execution_count": null,
   "metadata": {},
   "outputs": [],
   "source": [
    "# experiment with different slices in this cell, until you feel you understand how slicing works\n",
    "\n",
    "observations_sex[...]"
   ]
  },
  {
   "cell_type": "markdown",
   "metadata": {},
   "source": [
    "### Question 5\n",
    "\n",
    "The list below shows the names of the five people whose psychosis scores and status the psychiatrist recorded:"
   ]
  },
  {
   "cell_type": "code",
   "execution_count": null,
   "metadata": {},
   "outputs": [],
   "source": [
    "names = ['roy', 'david','lucy', 'aiesha', 'amelia']\n",
    "names"
   ]
  },
  {
   "cell_type": "markdown",
   "metadata": {},
   "source": [
    "Our psychiatrist friend, wants to check the names of the last three people we observed, against the data in their lab book. Create a slice containing the last three names from the ```names``` list, and store this in a variable called `last_three`:"
   ]
  },
  {
   "cell_type": "code",
   "execution_count": null,
   "metadata": {},
   "outputs": [],
   "source": [
    "last_three = ...\n",
    "\n",
    "# this line just forces the output of the cell to show us what value is stored in the last_three variable\n",
    "last_three"
   ]
  },
  {
   "cell_type": "code",
   "execution_count": null,
   "metadata": {},
   "outputs": [],
   "source": [
    "# run this cell to check your answer\n",
    "_ = ok.grade('q5')"
   ]
  },
  {
   "cell_type": "markdown",
   "metadata": {},
   "source": [
    "### Question 6\n",
    "\n",
    "The psychiatrist wants to check the names of the second and third person we observed. Create a slice containing the second and third person from the ```names``` list and store this slice in a variable called `second_and_third`:"
   ]
  },
  {
   "cell_type": "code",
   "execution_count": null,
   "metadata": {},
   "outputs": [],
   "source": [
    "second_and_third = ...\n",
    "\n",
    "\n",
    "# this line just forces the output of the cell to show us what value is stored in the second_and_third variable\n",
    "second_and_third"
   ]
  },
  {
   "cell_type": "code",
   "execution_count": null,
   "metadata": {},
   "outputs": [],
   "source": [
    "# run this cell to check your answer\n",
    "_ = ok.grade('q6')"
   ]
  },
  {
   "cell_type": "markdown",
   "metadata": {},
   "source": [
    "### Question 7\n",
    "The psychiatrist wants to know the names of the third and fourth person we observed. Create a slice containing the second and third person from the ```names``` list:"
   ]
  },
  {
   "cell_type": "code",
   "execution_count": null,
   "metadata": {},
   "outputs": [],
   "source": [
    "third_and_fourth = ...\n",
    "\n",
    "\n",
    "# this line just forces the output of the cell to show us what value is stored in the third_and_fourth variable\n",
    "third_and_fourth"
   ]
  },
  {
   "cell_type": "code",
   "execution_count": null,
   "metadata": {},
   "outputs": [],
   "source": [
    "# run this cell to check your answer\n",
    "_ = ok.grade('q7')"
   ]
  },
  {
   "cell_type": "code",
   "execution_count": null,
   "metadata": {},
   "outputs": [],
   "source": [
    "# For your convenience, you can run this cell to run all the tests at once!\n",
    "import os\n",
    "_ = [ok.grade(q[:-3]) for q in os.listdir(\"ok_tests/2_lists_indexing\") if q.startswith('q')]"
   ]
  },
  {
   "cell_type": "markdown",
   "metadata": {},
   "source": [
    "## Summary\n",
    "\n",
    "We now have a few of the main tools we will need to represent the data relevant to testing the psychiatrist's claim about the prevalence of psychotic disorders.\n",
    "\n",
    "However, the tools we have looked at on this page are useful for storing the data. We will want to analyse the data once we have stored it. In order to do that we will need to know how to retrieve data which meets certain conditions (such as retrieving all the scores in a dataset which are above a certain value). \n",
    "\n",
    "For that, we will need *boolean indexing*, which allows us to select data which meets a certain condition, or set of conditions. We will look at boolean indexing [next page.]('3_arrays_booleans.ipynb)\n",
    "\n",
    "Or, you can [return to the main page](0_main_page.ipynb).\n",
    "\n",
    "To navigate to any other page, the table of contents is below:\n",
    "\n",
    "## Other Chapters\n",
    "\n",
    "1. [Populations, Samples & Questions: Why Learn Python?](1_populations_samples_questions.ipynb)\n",
    "2. [Types of Variable, Lists & Indexing](2_variables_lists_indexing)\n",
    "3. [Arrays & Boolean Indexing](3_arrays_booleans.ipynb)\n",
    "4. [Functions, Plotting & Another Clinical Trial](4_functions_plotting.ipynb)\n",
    "5. [For Loops - doing things over (and over and over...)](5_for_loops.ipynb)\n",
    "6. [Testing via Simulation: Psychosis Prevalence](6_simulation_psychosis_prevalence.ipynb)\n",
    "7. [Pandas DataFrames](7_pandas_dataframes.ipynb)\n",
    "8. [Testing via Simulation II: Pollutant Exposure](8_simulation_pollution_impairment.ipynb)"
   ]
  },
  {
   "cell_type": "markdown",
   "metadata": {},
   "source": [
    "***\n",
    "By [pxr687](99_about_the_author.ipynb) "
   ]
  }
 ],
 "metadata": {
  "kernelspec": {
   "display_name": "Python 3",
   "language": "python",
   "name": "python3"
  },
  "language_info": {
   "codemirror_mode": {
    "name": "ipython",
    "version": 3
   },
   "file_extension": ".py",
   "mimetype": "text/x-python",
   "name": "python",
   "nbconvert_exporter": "python",
   "pygments_lexer": "ipython3",
   "version": "3.7.3"
  }
 },
 "nbformat": 4,
 "nbformat_minor": 2
}
