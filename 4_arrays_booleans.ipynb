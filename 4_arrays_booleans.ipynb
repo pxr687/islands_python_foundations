{
 "cells": [
  {
   "cell_type": "markdown",
   "metadata": {},
   "source": [
    "###  Islands: Python Foundations - Chapter 4\n",
    "\n",
    "[Back to Main Page](0_main_page.ipynb)\n",
    "\n",
    "[How to use this book interactively on Deepnote](99_how_to_use_this_book.ipynb)\n",
    "\n",
    "[Download this book](99_how_to_use_this_book_local.ipynb)\n",
    "\n",
    "<br>\n",
    "\n",
    "<h1> <center> Arrays & Boolean Indexing </center> </h1> "
   ]
  },
  {
   "cell_type": "markdown",
   "metadata": {},
   "source": [
    "## Importing Libraries"
   ]
  },
  {
   "cell_type": "markdown",
   "metadata": {},
   "source": [
    "As before, the cell below imports the libraries we need. \n",
    "\n",
    "Once again, <b> it is very important you run each cell in this notebook in the order in which they appear. </b> Later cells depend on the activity of earlier cells. \n",
    "\n",
    "<br>\n",
    "<br>\n",
    "<center> ↓↓↓ <b> Before reading on, please run the cell below</b>. Click on the cell and press `shift` and `Enter` together.↓↓↓ </center>"
   ]
  },
  {
   "cell_type": "code",
   "execution_count": null,
   "metadata": {},
   "outputs": [],
   "source": [
    "# run this cell (by pressing 'Control' and 'Enter' together) to import the libraries needed for \n",
    "# this page\n",
    "\n",
    "# 'import' tells python to get a set of functions (which is called a library), in the first case this is \n",
    "# the numpy library. The 'as' tells python to name the library something (to save us typing out 'numpy'); in this case\n",
    "# we name the library 'np'\n",
    "import numpy as np\n",
    "\n",
    "# in this case we import the pandas library and name it 'pd'\n",
    "import pandas as pd\n",
    "\n",
    "# here we import the matplotlib.pyplot library and name it 'plt'\n",
    "import matplotlib.pyplot as plt\n",
    "\n",
    "# this imports the machinery for marking answers to questions\n",
    "from client.api.notebook import Notebook\n",
    "ok = Notebook('ok_tests/4_arrays_booleans.ok')\n",
    "\n",
    "# gettingt the lists used on the 'lists_indexing' page\n",
    "psychosis_status_observations = ['psychotic', 'not_psychotic', 'not_psychotic', 'not_psychotic', 'psychotic']\n",
    "observations_sex = ['male', 'male', 'female', 'female', 'female']\n",
    "psychosis_scores = [80, 20, 14, 13, 91]\n",
    "names = ['roy', 'david','lucy', 'aiesha', 'amelia']"
   ]
  },
  {
   "cell_type": "markdown",
   "metadata": {},
   "source": [
    "## Comparisons and Booleans\n",
    "\n",
    "We mentioned earlier that python is useful for representing things in the world, and the relations between those things. We can use ```comparison operators``` to ask questions about the relations between differnt collections of data.\n",
    "\n",
    "Consider the following list, which contains the names of the 5 people we observed on the island:"
   ]
  },
  {
   "cell_type": "code",
   "execution_count": null,
   "metadata": {},
   "outputs": [],
   "source": [
    "names"
   ]
  },
  {
   "cell_type": "markdown",
   "metadata": {},
   "source": [
    "We can see that the third person we observed is called `lucy`. We know that to access this element of the ```names``` list, we would use ```names[2]```:"
   ]
  },
  {
   "cell_type": "code",
   "execution_count": null,
   "metadata": {},
   "outputs": [],
   "source": [
    "names[2]"
   ]
  },
  {
   "cell_type": "markdown",
   "metadata": {},
   "source": [
    "The ```==``` operator in python asks the question 'is this value equal to another value?'. \n",
    "\n",
    "Our psychiatrist friend asks us 'what was the name of the third person we observed? Was it Lucy?'. \n",
    "\n",
    "The code in the cell below asks the question 'is the third element of the ```names``` list equal to the value ```lucy```'?"
   ]
  },
  {
   "cell_type": "code",
   "execution_count": null,
   "metadata": {},
   "outputs": [],
   "source": [
    "names[2] == 'lucy'"
   ]
  },
  {
   "cell_type": "markdown",
   "metadata": {},
   "source": [
    "Look at the ```names``` list above. We can see that ```'roy``` is the first name in the list. Therefore, we, as humans, can see that it is <b>not</b> the case that ```'roy'``` is the third element in the ```names``` list. Let's ask python if ```'roy'``` is the third element of the ```names``` list:"
   ]
  },
  {
   "cell_type": "code",
   "execution_count": null,
   "metadata": {},
   "outputs": [],
   "source": [
    "names[2] == 'roy'"
   ]
  },
  {
   "cell_type": "markdown",
   "metadata": {},
   "source": [
    "### Question 1\n",
    "\n",
    "If we wanted to ask python:\n",
    "> 'is it true that the data for 5 people is stored in the ```psychosis_status_observations``` list?'.\n",
    "\n",
    "How would we do this? Store you answer in a variable called `ans_len_5`:\n",
    "\n",
    "*Hint:* you will need the `len()` function and a comparison operatior..."
   ]
  },
  {
   "cell_type": "code",
   "execution_count": null,
   "metadata": {},
   "outputs": [],
   "source": [
    "# your code here\n",
    "\n",
    "ans_len_5 = ...\n",
    "\n",
    "ans_len_5  # this line just makes the cell output whatever value you have saved in the ans_len_5 variable"
   ]
  },
  {
   "cell_type": "code",
   "execution_count": null,
   "metadata": {},
   "outputs": [],
   "source": [
    "_ = ok.grade('q1')"
   ]
  },
  {
   "cell_type": "markdown",
   "metadata": {},
   "source": [
    "The values ```True``` and ```False``` are a specific data type: they are Booleans. If you use a comparison operator to ask python a question about the relations between two values, it will always return a Boolean - a ```True``` or ```False```."
   ]
  },
  {
   "cell_type": "code",
   "execution_count": null,
   "metadata": {},
   "outputs": [],
   "source": [
    "type(True)"
   ]
  },
  {
   "cell_type": "code",
   "execution_count": null,
   "metadata": {},
   "outputs": [],
   "source": [
    "type(False)"
   ]
  },
  {
   "cell_type": "markdown",
   "metadata": {},
   "source": [
    "Notice that the Boolean values ```True``` and ```False``` do not have quotation marks around them. What type do you think they would be if they had quotation marks around them?"
   ]
  },
  {
   "cell_type": "code",
   "execution_count": null,
   "metadata": {},
   "outputs": [],
   "source": [
    "type('True')"
   ]
  },
  {
   "cell_type": "markdown",
   "metadata": {},
   "source": [
    "There are other comparison operators, which ask different questions to ```==```. For instance:\n",
    "\n",
    "```!=```  - asks 'are these two values NOT equal?\n",
    "\n",
    "```names[3]``` has the value ```'aiesha'```, which is not the same value as ```lucy```. \n",
    "\n",
    "Our psychiatrist friend asks us `the fourth person we observed wasn't called Lucy, is that correct?'. So we ask python:"
   ]
  },
  {
   "cell_type": "code",
   "execution_count": null,
   "metadata": {},
   "outputs": [],
   "source": [
    "names[3] != 'lucy' # this code asks 'is the fourth element in the observations list NOT EQUAL to 'lucy'?"
   ]
  },
  {
   "cell_type": "markdown",
   "metadata": {},
   "source": [
    "### Question 2\n",
    "\n",
    "Find out what value ```names[2]``` has. Ask python 'is ```names[2]``` NOT EQUAL to ```'lucy'```? Store the result in a variable called `ans_lucy`:"
   ]
  },
  {
   "cell_type": "code",
   "execution_count": null,
   "metadata": {},
   "outputs": [],
   "source": [
    "names"
   ]
  },
  {
   "cell_type": "code",
   "execution_count": null,
   "metadata": {},
   "outputs": [],
   "source": [
    "# your code here\n",
    "\n",
    "ans_lucy =  ...\n",
    "\n",
    "ans_lucy  # this line just makes the cell output whatever value you have saved in the ans_lucy variable"
   ]
  },
  {
   "cell_type": "code",
   "execution_count": null,
   "metadata": {},
   "outputs": [],
   "source": [
    "_ = ok.grade('q2')"
   ]
  },
  {
   "cell_type": "markdown",
   "metadata": {},
   "source": [
    "Recall the `psychosis_scores` list, which contains the psychosis questionairre scores for the first five individuals sampled on the island:"
   ]
  },
  {
   "cell_type": "code",
   "execution_count": null,
   "metadata": {},
   "outputs": [],
   "source": [
    "# run this cell to see the contents of the list\n",
    "psychosis_scores"
   ]
  },
  {
   "cell_type": "markdown",
   "metadata": {},
   "source": [
    "The psychiatrist tells you that, for the questionairre being used, the cutoff score for identifying that an individual is experiencing a psychotic episode is 70.\n",
    "\n",
    "The comparison operator `>=` asks 'is the value on the left hand side of the operator greater than or equal to the value on the right hand side?'.\n",
    "\n",
    "So if we wanted to ask 'is 50 greater than or equal to 100?', we would write:"
   ]
  },
  {
   "cell_type": "code",
   "execution_count": null,
   "metadata": {},
   "outputs": [],
   "source": [
    "# run this cell\n",
    "50 >= 100"
   ]
  },
  {
   "cell_type": "markdown",
   "metadata": {},
   "source": [
    "You can see that this operator returns a Boolean, indicating the answer to the question we asked it.\n",
    "\n",
    "### Question 3\n",
    "\n",
    "Using python, how would you ask:\n",
    "> *'did the fifth person we sampled have a score above the cutoff, indicating they were experiencing a psychotic episode?'*. \n",
    "\n",
    "Store your answer in a variable called `fifth_psychosis`:"
   ]
  },
  {
   "cell_type": "code",
   "execution_count": null,
   "metadata": {},
   "outputs": [],
   "source": [
    "fifth_psychosis = ...\n",
    "\n",
    "fifth_psychosis # this line just makes the cell output whatever value you have saved in the fifth_psychosis variable"
   ]
  },
  {
   "cell_type": "code",
   "execution_count": null,
   "metadata": {},
   "outputs": [],
   "source": [
    "_ = ok.grade('q3')"
   ]
  },
  {
   "cell_type": "markdown",
   "metadata": {},
   "source": [
    "## Numpy arrays and Boolean Indexing\n",
    "\n",
    "[THIS SECTION GETS ON OUR WAY TO HAVING THE MACHINERY TO CALCULATE THE PSYCHOSIS PREVALENCE..]\n",
    "\n",
    "[EXPLAIN HOW TYPES ARE IMPORTANT FOR BOOLEAN INDEXING ETC]\n",
    "\n"
   ]
  },
  {
   "cell_type": "code",
   "execution_count": null,
   "metadata": {
    "scrolled": true
   },
   "outputs": [],
   "source": [
    "psychosis_scores >= 70"
   ]
  },
  {
   "cell_type": "code",
   "execution_count": null,
   "metadata": {},
   "outputs": [],
   "source": [
    "type(psychosis_scores)"
   ]
  },
  {
   "cell_type": "code",
   "execution_count": null,
   "metadata": {},
   "outputs": [],
   "source": [
    "np.array([psychosis_scores])"
   ]
  },
  {
   "cell_type": "code",
   "execution_count": null,
   "metadata": {},
   "outputs": [],
   "source": [
    "psychosis_scores_array = np.array([psychosis_scores])\n",
    "\n",
    "type(psychosis_scores_array)"
   ]
  },
  {
   "cell_type": "code",
   "execution_count": null,
   "metadata": {},
   "outputs": [],
   "source": [
    "psychosis_scores_array >= 70"
   ]
  },
  {
   "cell_type": "code",
   "execution_count": null,
   "metadata": {},
   "outputs": [],
   "source": [
    "psychosis_scores_array[psychosis_scores_array >= 70]"
   ]
  },
  {
   "cell_type": "markdown",
   "metadata": {},
   "source": [
    "## Psychosis prevalence"
   ]
  },
  {
   "cell_type": "code",
   "execution_count": null,
   "metadata": {},
   "outputs": [],
   "source": [
    "# For your convenience, you can run this cell to run all the tests at once!\n",
    "import os\n",
    "_ = [ok.grade(q[:-3]) for q in os.listdir(\"ok_tests/4_arrays_booleans\") if q.startswith('q')]"
   ]
  },
  {
   "cell_type": "markdown",
   "metadata": {},
   "source": [
    "Or, you can [return to the main page](0_main_page.ipynb).\n",
    "\n",
    "To navigate to any other page, the table of contents is below:\n",
    "\n",
    "## Other Chapters\n",
    "\n",
    "1. [Populations, Samples & Questions: Why Learn Python?](1_populations_samples_questions.ipynb)\n",
    "2. [Lists & Indexing](2_lists_indexing.ipynb)\n",
    "3. [Functions & Plotting](3_functions_plotting.ipynb)\n",
    "4. [Arrays & Boolean Indexing](4_arrays_booleans.ipynb)\n",
    "5. [For Loops - doing things over (and over and over...)](5_for_loops.ipynb)\n",
    "6. [Testing via Simulation: Psychosis Prevalence](6_simulation_psychosis_prevalence.ipynb)"
   ]
  },
  {
   "cell_type": "markdown",
   "metadata": {},
   "source": [
    "***\n",
    "By [pxr687](99_about_the_author.ipynb) "
   ]
  }
 ],
 "metadata": {
  "kernelspec": {
   "display_name": "Python 3",
   "language": "python",
   "name": "python3"
  },
  "language_info": {
   "codemirror_mode": {
    "name": "ipython",
    "version": 3
   },
   "file_extension": ".py",
   "mimetype": "text/x-python",
   "name": "python",
   "nbconvert_exporter": "python",
   "pygments_lexer": "ipython3",
   "version": "3.7.9"
  }
 },
 "nbformat": 4,
 "nbformat_minor": 2
}
