{
 "cells": [
  {
   "cell_type": "markdown",
   "metadata": {},
   "source": [
    "[Back to Main Page](0_main_page.ipynb)\n",
    "\n",
    "# About the author\n",
    "\n",
    "I am a Psychology PhD candidate, Research Associate and Postgraduate Teaching Assistant in Data Science at the University of Birmingham, UK. \n",
    "\n",
    "I am interested in making coding and data science inclusive and accessible to everyone, everywhere.\n",
    "\n",
    "If you find any errors in this textbook, please let me know: pxr687@bham.ac.uk"
   ]
  }
 ],
 "metadata": {
  "kernelspec": {
   "display_name": "Python 3",
   "language": "python",
   "name": "python3"
  },
  "language_info": {
   "codemirror_mode": {
    "name": "ipython",
    "version": 3
   },
   "file_extension": ".py",
   "mimetype": "text/x-python",
   "name": "python",
   "nbconvert_exporter": "python",
   "pygments_lexer": "ipython3",
   "version": "3.7.3"
  }
 },
 "nbformat": 4,
 "nbformat_minor": 5
}
