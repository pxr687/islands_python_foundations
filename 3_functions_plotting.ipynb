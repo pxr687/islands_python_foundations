{
 "cells": [
  {
   "cell_type": "markdown",
   "metadata": {},
   "source": [
    "###  Islands: Python Foundations - Chapter 3\n",
    "\n",
    "[Back to Main Page](0_main_page.ipynb)\n",
    "\n",
    "[How to use this book interactively on Deepnote](99_how_to_use_this_book.ipynb)\n",
    "\n",
    "[Download this book](99_how_to_use_this_book_local.ipynb)\n",
    "<br>\n",
    "\n",
    "<h1> <center> Functions & Plotting </center> </h1> "
   ]
  },
  {
   "cell_type": "markdown",
   "metadata": {},
   "source": [
    "## Importing Libraries"
   ]
  },
  {
   "cell_type": "markdown",
   "metadata": {},
   "source": [
    "As before, the cell below imports the libraries we need. \n",
    "\n",
    "Once again, <b> it is very important you run each cell in this notebook in the order in which they appear. </b> Later cells depend on the activity of earlier cells.\n",
    "\n",
    "<br>\n",
    "<br>\n",
    "<center> ↓↓↓ <b> Before reading on, please run the cell below</b>. Click on the cell and press `shift` and `Enter` together.↓↓↓ </center>"
   ]
  },
  {
   "cell_type": "code",
   "execution_count": 1,
   "metadata": {},
   "outputs": [
    {
     "name": "stdout",
     "output_type": "stream",
     "text": [
      "=====================================================================\n",
      "Assignment: 3_functions_plotting\n",
      "OK, version v1.18.1\n",
      "=====================================================================\n",
      "\n"
     ]
    }
   ],
   "source": [
    "# run this cell (by pressing 'Control' and 'Enter' together) to import the libraries needed for \n",
    "# this page\n",
    "\n",
    "# 'import' tells python to get a set of functions (which is called a library), in the first case this is \n",
    "# the numpy library. The 'as' tells python to name the library something (to save us typing out 'numpy'); in this case\n",
    "# we name the library 'np'\n",
    "import numpy as np\n",
    "\n",
    "# in this case we import the pandas library and name it 'pd'\n",
    "import pandas as pd\n",
    "\n",
    "# here we import the matplotlib.pyplot library and name it 'plt'\n",
    "import matplotlib.pyplot as plt\n",
    "\n",
    "# import the py_found library, containing a set of custom functions for this page\n",
    "import py_found\n",
    "\n",
    "# make plots look like R\n",
    "py_found.r_ify()\n",
    "\n",
    "# generate the data for this page\n",
    "psychosis_status_observations, observations_sex, psychosis_scores, names, psychosis_score_200_patients, num_hospitalisations = py_found.function_plot_page_setup()\n",
    "\n",
    "# this imports the machinery for marking answers to questions\n",
    "from client.api.notebook import Notebook\n",
    "ok = Notebook('ok_tests/3_functions_plotting.ok')"
   ]
  },
  {
   "cell_type": "markdown",
   "metadata": {},
   "source": [
    "## Functions\n",
    "\n",
    "<br>\n",
    "\n",
    "<center> <img src=\"https://github.com/pxr687/islands_python_foundations/blob/master/images/psychotic_island.png?raw=true\" width=\"400\"> </center>\n",
    "\n",
    "<br>\n",
    "\n",
    "Our [psychiatrist friend](2_lists_indexing.ipynb#A-psychotic-island) is being asked by their co-worker to report how many individuals they have sampled so far on the island. \n",
    "\n",
    "As a result, the psychiatrist wants to double-check how many people there are in total in the sample we took. (Remember that each element of our ```psychosis_status_observations``` list shows the psychosis status of one person, so the total number of elements is the list equals the number of people we observed):"
   ]
  },
  {
   "cell_type": "code",
   "execution_count": 2,
   "metadata": {},
   "outputs": [
    {
     "data": {
      "text/plain": [
       "['psychotic', 'not_psychotic', 'not_psychotic', 'not_psychotic', 'psychotic']"
      ]
     },
     "execution_count": 2,
     "metadata": {},
     "output_type": "execute_result"
    }
   ],
   "source": [
    "# run this cell to view the contents of the psychosis_status_observations list\n",
    "psychosis_status_observations"
   ]
  },
  {
   "cell_type": "markdown",
   "metadata": {},
   "source": [
    "We could check this by counting the number of elements in the list. This might work OK for small samples, but will get cumbersome if our sample had many people in it. (Imagine if our sample consisted of all the 10000 people on the island!). \n",
    "\n",
    "We can get python to count the number of elements in our list. To do this we use a *function*. You can think of a [function as a recipe that takes an ingredient, or set of ingredients, performs a procedure on them an returns a \"meal\"](https://matthew-brett.github.io/cfd2020/functions-conditionals/functions.html).\n",
    "\n",
    "In this case we want to use the ```len()``` function. The ```len()``` function will take whatever ingredient it is given - technically, the 'ingredient' is called an 'argument' - and it will count how many elements are in that ingredient. \n",
    "\n",
    "```len``` is the name of the function, inside the ```()``` we put the 'ingredient' that we want the function to operate on. In this case, we want to count the number of elements in our ```psychosis_status_observations``` list. So we type:"
   ]
  },
  {
   "cell_type": "code",
   "execution_count": 3,
   "metadata": {},
   "outputs": [
    {
     "data": {
      "text/plain": [
       "5"
      ]
     },
     "execution_count": 3,
     "metadata": {},
     "output_type": "execute_result"
    }
   ],
   "source": [
    "len(psychosis_status_observations)"
   ]
  },
  {
   "cell_type": "markdown",
   "metadata": {},
   "source": [
    "### Question 1\n",
    "\n",
    "Here is the `observations_sex` list, which shows the biological sex of the five islanders in our sample:"
   ]
  },
  {
   "cell_type": "code",
   "execution_count": 4,
   "metadata": {},
   "outputs": [
    {
     "data": {
      "text/plain": [
       "['male', 'male', 'female', 'female', 'female']"
      ]
     },
     "execution_count": 4,
     "metadata": {},
     "output_type": "execute_result"
    }
   ],
   "source": [
    "# run this cell to view the contents of the list\n",
    "observations_sex"
   ]
  },
  {
   "cell_type": "markdown",
   "metadata": {},
   "source": [
    "Use the `len()` function to count the number of elements in the `observations_sex` list. Store the result in a variable called `len_obs_sex`:"
   ]
  },
  {
   "cell_type": "code",
   "execution_count": 5,
   "metadata": {},
   "outputs": [
    {
     "data": {
      "text/plain": [
       "5"
      ]
     },
     "execution_count": 5,
     "metadata": {},
     "output_type": "execute_result"
    }
   ],
   "source": [
    "# your code here\n",
    "len_obs_sex = len(observations_sex) # !!! replace with ...\n",
    "\n",
    "\n",
    "len_obs_sex  # this line just makes the cell output whatever value you have saved in the len_obs_sex variable"
   ]
  },
  {
   "cell_type": "code",
   "execution_count": 6,
   "metadata": {},
   "outputs": [
    {
     "name": "stdout",
     "output_type": "stream",
     "text": [
      "~~~~~~~~~~~~~~~~~~~~~~~~~~~~~~~~~~~~~~~~~~~~~~~~~~~~~~~~~~~~~~~~~~~~~\n",
      "Running tests\n",
      "\n",
      "---------------------------------------------------------------------\n",
      "Test summary\n",
      "    Passed: 1\n",
      "    Failed: 0\n",
      "[ooooooooook] 100.0% passed\n",
      "\n"
     ]
    }
   ],
   "source": [
    "_ = ok.grade('q1')"
   ]
  },
  {
   "cell_type": "markdown",
   "metadata": {},
   "source": [
    "There are many other functions in python. ```print()``` is one of them. Whatever argument we pass to ```print()``` it will show the argument as an output when we run the cell:"
   ]
  },
  {
   "cell_type": "code",
   "execution_count": 7,
   "metadata": {},
   "outputs": [
    {
     "name": "stdout",
     "output_type": "stream",
     "text": [
      "The prevalence of psychotic disorders on this island is unusally high...\n"
     ]
    }
   ],
   "source": [
    "print('The prevalence of psychotic disorders on this island is unusally high...')"
   ]
  },
  {
   "cell_type": "markdown",
   "metadata": {},
   "source": [
    "The `print()` function has many uses, for instance, we can use it to check what the value of a variable is before and after we've done something to the variable (this is very useful for checking our code is doing what we want it to do!):"
   ]
  },
  {
   "cell_type": "code",
   "execution_count": 8,
   "metadata": {},
   "outputs": [
    {
     "name": "stdout",
     "output_type": "stream",
     "text": [
      "my_variable = 0\n",
      "my_variable = 1000\n"
     ]
    }
   ],
   "source": [
    "# a variable containing the value 0\n",
    "my_variable = 0\n",
    "\n",
    "# showing the value of the variable\n",
    "print('my_variable =', my_variable)\n",
    "\n",
    "# adding 1000 to the variable\n",
    "my_variable = my_variable + 1000\n",
    "\n",
    "# showing the value of the variable after adding 1000\n",
    "print('my_variable =', my_variable)"
   ]
  },
  {
   "cell_type": "markdown",
   "metadata": {},
   "source": [
    "Try using the ```print()``` function to print out the phrase `We took a sample of 5 people on the island...`.\n",
    "\n",
    "(Remember to include the quotation marks around the phrase, so that python recognises it as a string!). "
   ]
  },
  {
   "cell_type": "code",
   "execution_count": 9,
   "metadata": {},
   "outputs": [
    {
     "ename": "SyntaxError",
     "evalue": "EOL while scanning string literal (<ipython-input-9-ae6e1c3c918d>, line 1)",
     "output_type": "error",
     "traceback": [
      "\u001b[1;36m  File \u001b[1;32m\"<ipython-input-9-ae6e1c3c918d>\"\u001b[1;36m, line \u001b[1;32m1\u001b[0m\n\u001b[1;33m    print('We took a sample...\u001b[0m\n\u001b[1;37m                              ^\u001b[0m\n\u001b[1;31mSyntaxError\u001b[0m\u001b[1;31m:\u001b[0m EOL while scanning string literal\n"
     ]
    }
   ],
   "source": [
    "print('We took a sample..."
   ]
  },
  {
   "cell_type": "markdown",
   "metadata": {},
   "source": [
    "As mentioned previously, the phrase you just printed out is a string. You can check what type of thing something is in python by using the ```type()``` function. Let's use the ```type()``` fucntion to confirm what sort of things we've been dealing with so far:"
   ]
  },
  {
   "cell_type": "code",
   "execution_count": null,
   "metadata": {},
   "outputs": [],
   "source": [
    "type(psychosis_status_observations)"
   ]
  },
  {
   "cell_type": "markdown",
   "metadata": {},
   "source": [
    "Remember that the ```psychosis_status_observations``` list contains a collection of strings, which show whether each person we observered was psychotic or not: ```['psychotic', 'not_psychotic', 'not_psychotic', 'not_psychotic', 'psychotic']```. Let's confirm this with ```type()```, run the two cells below:"
   ]
  },
  {
   "cell_type": "code",
   "execution_count": null,
   "metadata": {},
   "outputs": [],
   "source": [
    "# printing the first element of the psychosis_status_observations list\n",
    "print(psychosis_status_observations[0])"
   ]
  },
  {
   "cell_type": "code",
   "execution_count": null,
   "metadata": {},
   "outputs": [],
   "source": [
    "# using the type() function to see what type of python object the first element of the list is\n",
    "type(psychosis_status_observations[0]) "
   ]
  },
  {
   "cell_type": "markdown",
   "metadata": {},
   "source": [
    "Remember the list containing the psychosis scores for the 5 individuals we observed?"
   ]
  },
  {
   "cell_type": "code",
   "execution_count": null,
   "metadata": {},
   "outputs": [],
   "source": [
    "# run this cell to see the contents of the list\n",
    "psychosis_scores"
   ]
  },
  {
   "cell_type": "markdown",
   "metadata": {},
   "source": [
    "Let's use ```type()``` to see what type of data is in that list, first, let's look at the first element of the `psychosis_scores` list:"
   ]
  },
  {
   "cell_type": "code",
   "execution_count": null,
   "metadata": {},
   "outputs": [],
   "source": [
    "# printing the first element of the psychosis_scores list\n",
    "print(psychosis_scores[0])"
   ]
  },
  {
   "cell_type": "markdown",
   "metadata": {},
   "source": [
    "Now, in the cell below use the `type()` function to reveal what type of data the first element of the `psychosis_scores` is. If you do this correctly, then the word `int` should be printed out by the cell."
   ]
  },
  {
   "cell_type": "code",
   "execution_count": null,
   "metadata": {},
   "outputs": [],
   "source": [
    "# using the type() function to see what type of python object the first element of the list is\n",
    "type(..."
   ]
  },
  {
   "cell_type": "markdown",
   "metadata": {},
   "source": [
    "It is very important, when analysing data, to be aware of what type of data it is (both in the theoretical sense (e.g. the type of variable) and in the pythonic sense (e.g. the `type` of data in python)). This is because certain functions expect certain types of data as input, and will generate errors if they are given the wrong type of data.\n",
    "\n",
    "All the functions we have used so far are in-built python functions - they are part of the python language itself. \n",
    "\n",
    "However, there are many additional functions we can use which are stored in libraries. We imported the numpy library earlier, and we named it ```np``` (scroll to the first cell at the top of the notebook if you don't remember).\n",
    "\n",
    "We can use the function ```np.mean()``` to calculate the [average](https://www.investopedia.com/terms/a/arithmeticmean.asp) of a set of numbers:"
   ]
  },
  {
   "cell_type": "code",
   "execution_count": null,
   "metadata": {},
   "outputs": [],
   "source": [
    "# run this cell to calculate the average value of the scores in the psychosis_scores list\n",
    "np.mean(psychosis_scores)"
   ]
  },
  {
   "cell_type": "markdown",
   "metadata": {},
   "source": [
    "### Question 2\n",
    "\n",
    "The psychiatrist also would like to know the [median](https://www.investopedia.com/terms/m/median.asp) of the psychosis scores. Have a go at using the function ```np.median()``` to find the median of the ```psychosis_scores``` list, and store the result as a variable called `psychosis_median`:"
   ]
  },
  {
   "cell_type": "code",
   "execution_count": null,
   "metadata": {},
   "outputs": [],
   "source": [
    "psychosis_median = np.median(psychosis_scores) #!!! replace with ...\n",
    "\n",
    "psychosis_median  # this line just makes the cell output whatever value you have saved in the psychosis_median variable"
   ]
  },
  {
   "cell_type": "code",
   "execution_count": null,
   "metadata": {},
   "outputs": [],
   "source": [
    "_ = ok.grade('q2')"
   ]
  },
  {
   "cell_type": "markdown",
   "metadata": {},
   "source": [
    "# Another clinical trial \n",
    "\n",
    "A hospital on the island is conducting a clinical trial of a drug called Fentacriptine. Fentacriptine is hypothesized to reduce psychotic symptoms. \n",
    "\n",
    "200 islanders participated in the study. 100 of them were randomly assigned to receive Fentacriptine and 100 were randomly assigned to receive a placebo.\n",
    "\n",
    "The graph below shows the results from the trial:"
   ]
  },
  {
   "cell_type": "code",
   "execution_count": 10,
   "metadata": {},
   "outputs": [
    {
     "data": {
      "image/png": "[encoded data removed]",
      "text/plain": [
       "<Figure size 432x288 with 1 Axes>"
      ]
     },
     "metadata": {
      "needs_background": "light"
     },
     "output_type": "display_data"
    }
   ],
   "source": [
    "placebo, drug = py_found.another_trial_gen()"
   ]
  },
  {
   "cell_type": "markdown",
   "metadata": {},
   "source": [
    "### Question 3\n",
    "\n",
    "As part of the process of gathering descriptive statistics from the trial - that is, statistics that merely describe the characteristics of the sample, without making inferences about the underlying population - the psychiatrist wants to calculate the difference betweeb the means of each group.\n",
    "\n",
    "Here are the arrays containing the scores of each group:"
   ]
  },
  {
   "cell_type": "code",
   "execution_count": null,
   "metadata": {},
   "outputs": [],
   "source": [
    "# run this cell to see the scores\n",
    "placebo"
   ]
  },
  {
   "cell_type": "code",
   "execution_count": null,
   "metadata": {},
   "outputs": [],
   "source": [
    "# run this cell to see the scores\n",
    "drug"
   ]
  },
  {
   "cell_type": "markdown",
   "metadata": {},
   "source": [
    "In the cell below, use the function `np.median()` to subtract the mean of the `drug` group from the mean of the `placebo` group. Save the difference in a variable called `difference_in_medians`:"
   ]
  },
  {
   "cell_type": "code",
   "execution_count": 11,
   "metadata": {},
   "outputs": [
    {
     "data": {
      "text/plain": [
       "3.0"
      ]
     },
     "execution_count": 11,
     "metadata": {},
     "output_type": "execute_result"
    }
   ],
   "source": [
    "difference_in_medians = np.median(placebo) - np.median(drug) #!!! replace with ..\n",
    "\n",
    "# show the difference in medians\n",
    "difference_in_medians"
   ]
  },
  {
   "cell_type": "code",
   "execution_count": 12,
   "metadata": {},
   "outputs": [
    {
     "name": "stdout",
     "output_type": "stream",
     "text": [
      "~~~~~~~~~~~~~~~~~~~~~~~~~~~~~~~~~~~~~~~~~~~~~~~~~~~~~~~~~~~~~~~~~~~~~\n",
      "Running tests\n",
      "\n",
      "---------------------------------------------------------------------\n",
      "Test summary\n",
      "    Passed: 1\n",
      "    Failed: 0\n",
      "[ooooooooook] 100.0% passed\n",
      "\n"
     ]
    }
   ],
   "source": [
    "_ = ok.grade('q3')"
   ]
  },
  {
   "cell_type": "markdown",
   "metadata": {},
   "source": [
    "So is the difference in the medians convincing? "
   ]
  },
  {
   "cell_type": "code",
   "execution_count": null,
   "metadata": {},
   "outputs": [],
   "source": [
    "py_found.another_trial_pop_illustration(placebo, drug)"
   ]
  },
  {
   "cell_type": "markdown",
   "metadata": {},
   "source": [
    "If the Null World is true, then the result is a fluke. The drug doesn't make a difference to psychosis scores, and the difference between the two groups is due to random sampling. It just happened that in this sample more people in the drug group came from the lower tail of the distribution (the left hand side, lower psychosis scores).\n",
    "\n",
    "The result is a fluke because it is not what you would typically find if your drew two random samples from the Null World.\n",
    "\n",
    "Below is more typical:"
   ]
  },
  {
   "cell_type": "code",
   "execution_count": null,
   "metadata": {},
   "outputs": [],
   "source": [
    "py_found.another_trial_pop_resample(placebo, drug)"
   ]
  },
  {
   "cell_type": "markdown",
   "metadata": {},
   "source": [
    "[Re-vist what a median is]"
   ]
  },
  {
   "cell_type": "code",
   "execution_count": null,
   "metadata": {},
   "outputs": [],
   "source": [
    "py_found.another_trial_pop_resample_with_medians(placebo, drug)"
   ]
  },
  {
   "cell_type": "code",
   "execution_count": null,
   "metadata": {},
   "outputs": [],
   "source": [
    "# demonstration of np.append()\n",
    "\n",
    "a = [1,2,3]\n",
    "b = ['x', 'y', 'z']\n",
    "\n",
    "np.append(a, b)"
   ]
  },
  {
   "cell_type": "markdown",
   "metadata": {},
   "source": [
    "## Question 4\n",
    "\n",
    "Use `np.append()` to combine the scores of the `placebo` and the `drug` group into one array. Store the combined array as a variable called `combined_groups`:"
   ]
  },
  {
   "cell_type": "code",
   "execution_count": 17,
   "metadata": {},
   "outputs": [
    {
     "data": {
      "text/plain": [
       "array([77, 78, 81, 77, 74, 80, 73, 77, 80, 77, 78, 78, 80, 76, 77, 79, 77,\n",
       "       78, 78, 75, 79, 73, 75, 79, 79, 78, 77, 77, 77, 79, 77, 75, 77, 79,\n",
       "       75, 76, 76, 77, 79, 78, 78, 76, 76, 76, 76, 77, 78, 73, 76, 77, 75,\n",
       "       73, 76, 77, 77, 76, 74, 74, 76, 75, 75, 72, 76, 77, 76, 78, 78, 75,\n",
       "       77, 76, 80, 75, 80, 76, 74, 76, 78, 77, 76, 77, 75, 75, 76, 78, 73,\n",
       "       79, 79, 78, 77, 79, 75, 76, 75, 75, 77, 76, 72, 79, 76, 78, 83, 83,\n",
       "       75, 79, 81, 75, 80, 78, 78, 79, 82, 77, 81, 79, 79, 79, 82, 80, 79,\n",
       "       76, 82, 74, 76, 82, 80, 79, 77, 78, 81, 80, 79, 80, 81, 81, 76, 74,\n",
       "       79, 79, 82, 78, 78, 77, 85, 80, 80, 82, 78, 83, 84, 74, 84, 80, 80,\n",
       "       82, 80, 80, 80, 79, 80, 80, 80, 80, 77, 78, 82, 78, 79, 83, 78, 81,\n",
       "       80, 81, 85, 81, 80, 79, 76, 82, 85, 79, 81, 81, 79, 84, 78, 82, 79,\n",
       "       80, 80, 77, 80, 80, 79, 79, 79, 78, 81, 79, 77, 81])"
      ]
     },
     "execution_count": 17,
     "metadata": {},
     "output_type": "execute_result"
    }
   ],
   "source": [
    "combined_groups = np.append(drug, placebo) #!!! replace with ...\n",
    "\n",
    "# show the array\n",
    "\n",
    "combined_groups"
   ]
  },
  {
   "cell_type": "code",
   "execution_count": 16,
   "metadata": {},
   "outputs": [
    {
     "name": "stdout",
     "output_type": "stream",
     "text": [
      "~~~~~~~~~~~~~~~~~~~~~~~~~~~~~~~~~~~~~~~~~~~~~~~~~~~~~~~~~~~~~~~~~~~~~\n",
      "Running tests\n",
      "\n",
      "---------------------------------------------------------------------\n",
      "Test summary\n",
      "    Passed: 1\n",
      "    Failed: 0\n",
      "[ooooooooook] 100.0% passed\n",
      "\n"
     ]
    }
   ],
   "source": [
    "_ = ok.grade('q4')"
   ]
  },
  {
   "cell_type": "markdown",
   "metadata": {},
   "source": [
    "## Question 5\n",
    "\n",
    "Calculate the median of the `combined_groups` array, store as `grand_median` ('gets the rather grand title...')"
   ]
  },
  {
   "cell_type": "code",
   "execution_count": 18,
   "metadata": {},
   "outputs": [
    {
     "data": {
      "text/plain": [
       "78.0"
      ]
     },
     "execution_count": 18,
     "metadata": {},
     "output_type": "execute_result"
    }
   ],
   "source": [
    "grand_median = np.median(combined_groups)\n",
    "\n",
    "# show the grand median\n",
    "\n",
    "grand_median"
   ]
  },
  {
   "cell_type": "code",
   "execution_count": null,
   "metadata": {},
   "outputs": [],
   "source": [
    "_ = ok.grade('q5')"
   ]
  },
  {
   "cell_type": "markdown",
   "metadata": {},
   "source": [
    "Do you think this provides evidence that the drug is effective? [Explain null hypothesis, maybe illustrate with a pre-coded simulation]"
   ]
  },
  {
   "cell_type": "markdown",
   "metadata": {},
   "source": [
    "As mentioned earlier, it is important to know what type of data you are dealing with, because different functions expect different types of data.\n",
    "\n",
    "You will get an error if you pass some data of the wrong type to a function that cannot operate on that type.\n",
    "\n",
    "Remember that the ```psychosis_status_observations``` list contains the following strings: ```['psychotic', 'not_psychotic', 'not_psychotic', 'not_psychotic', 'psychotic']```. See what happens if you try and use ```np.mean()``` on the ```observations``` list:"
   ]
  },
  {
   "cell_type": "code",
   "execution_count": null,
   "metadata": {},
   "outputs": [],
   "source": [
    "np.mean(psychosis_status_observations)"
   ]
  },
  {
   "cell_type": "markdown",
   "metadata": {},
   "source": [
    "Whilst error messages can look fairly verbose and intimidating, they are useful. The information they give allows us to work out where our code has gone wrong. Googling the error message is often a good way of seeing where other coders have come across it, and how to solve it. \n",
    "\n",
    "If you look at the error message above, you can see the phrase `TypeError` on the first and final lines. This tells us (albeit a bit cryptically!) that somewhere in our code a function has been given an argument of the wrong type (e.g. the wrong type of data).\n",
    "\n",
    "If you look at the top of the error message, we can see that the line of code that generated the error is:\n",
    "\n",
    "> `----> 1 np.mean(psychosis_status_observations)`\n",
    "\n",
    "We tried to calculate the average of a set of words; `np.mean()` expects numerical data (`ints` or `floats`) as input, and has generated the error because we gave it the `psychosis_status_observations` list, which contains strings...\n",
    "\n",
    "## More functions\n",
    "\n",
    "\n",
    "Aside from the main hypothesis you are on the island to test ([about the high prevalence of psychotic disorders](2_lists_indexing.ipynb#A-psychotic-island)), your group wishes to collect a variety of data relevant to the study of psychotic disorders.\n",
    "\n",
    "You obtain some data from a hospital on the island. The dataset contains the scores on a psychosis questionairre for 200 patients, as well as the number of times that patient was hospitalised during a psychotic episode during the last two years.\n",
    "\n",
    "The psychosis scores are stored in a variable called `psychosis_score_200_patients` and are shown in the cell below (this variable was assigned 'behind the scenes' at the beginning of the notebook...):"
   ]
  },
  {
   "cell_type": "code",
   "execution_count": null,
   "metadata": {},
   "outputs": [],
   "source": [
    "psychosis_score_200_patients"
   ]
  },
  {
   "cell_type": "markdown",
   "metadata": {},
   "source": [
    "The number of hospitalisations for each patient are stored in a variable called `num_hospitalisations` and are shown in the cell below:"
   ]
  },
  {
   "cell_type": "code",
   "execution_count": null,
   "metadata": {},
   "outputs": [],
   "source": [
    "num_hospitalisations"
   ]
  },
  {
   "cell_type": "markdown",
   "metadata": {},
   "source": [
    "The data in the cells above show the data in its raw form. Look at both of the arrays, can you see any patterns?\n",
    "\n",
    "\n",
    "It is very hard to see patterns in raw data when it is presented in this format. \n",
    "\n",
    "\n",
    "[A BASIC PLOTTING EXERCISE HERE TO KEEP FUNCTIONS RELEVANT BEFORE THE NEXT EXERCISE, e.g. avoid the feeling of 'but why would I need this'?]"
   ]
  },
  {
   "cell_type": "code",
   "execution_count": null,
   "metadata": {},
   "outputs": [],
   "source": [
    "plt.scatter(psychosis_score_200_patients, num_hospitalisations)\n",
    "\n",
    "\n",
    "\n",
    "plt.xlabel('Psychosis Score')\n",
    "plt.ylabel('Number of Hospitalisations in the Two Years')\n",
    "plt.show()"
   ]
  },
  {
   "cell_type": "markdown",
   "metadata": {},
   "source": [
    "Let's go through some useful functions which we might want to use on this data. Here are some other useful numpy functions, alongside a brief description of what they do:\n",
    "<br>\n",
    "<br>\n",
    "`np.negative()` - when given a list or array, this function will make every element of the array negative\n",
    "<br>\n",
    "<br>\n",
    "`np.round()` - when given a list or array, this function will round each element of the list or array to the given number of decimals\n",
    "<br>\n",
    "<br>\n",
    "`np.max()` - when given a list or array, this function will return the largest element of the list or array\n",
    "<br>\n",
    "<br>\n",
    "`np.min()` - when given a list or array, this function will return the smallest element of the list or array\n",
    "<br>\n",
    "<br>\n",
    "`np.sqrt()` - when given a list or array, this function will return the squareroot of each element of the list or array\n",
    "<br>\n",
    "<br>\n",
    "`np.sort()` - when given a list or array, this function will order the elements of the list or array from smallest to largest\n",
    "<br>\n",
    "<br>\n",
    "`np.count_nonzero()` - when given a list or array, this function will count the number of elements which are <b>not</b> equal to 0.\n",
    "<br>\n",
    "<br>"
   ]
  },
  {
   "cell_type": "markdown",
   "metadata": {},
   "source": [
    "### Question 5\n",
    "\n",
    "Using any of the functions shown above, find the <b> lowest </b> psychosis score in the `psychosis_score_200_patients` array, store this in a variable called `lowest_score`."
   ]
  },
  {
   "cell_type": "code",
   "execution_count": null,
   "metadata": {},
   "outputs": [],
   "source": [
    "# answer\n",
    "\n",
    "lowest_score = np.min(psychosis_score_200_patients) #!!! replace with ...\n",
    "\n",
    "# show the highest score\n",
    "lowest_score"
   ]
  },
  {
   "cell_type": "code",
   "execution_count": null,
   "metadata": {},
   "outputs": [],
   "source": [
    "_ = ok.grade('q5')"
   ]
  },
  {
   "cell_type": "markdown",
   "metadata": {},
   "source": [
    "### Question 6\n",
    "\n",
    "Using any of the functions shown above, find the <b>highest</b> psychosis score in the `psychosis_score_200_patients` array, store this in a variable called `highest_score`."
   ]
  },
  {
   "cell_type": "code",
   "execution_count": null,
   "metadata": {},
   "outputs": [],
   "source": [
    "highest_score = np.max(psychosis_score_200_patients) #!!! replace with ...\n",
    "\n",
    "# show the highest score\n",
    "highest_score"
   ]
  },
  {
   "cell_type": "code",
   "execution_count": null,
   "metadata": {},
   "outputs": [],
   "source": [
    "_ = ok.grade('q6')"
   ]
  },
  {
   "cell_type": "markdown",
   "metadata": {},
   "source": [
    "### Question 7\n",
    "\n",
    "Using any of the functions listed above, sort the  `psychosis_score_200_patients` from lowest to highest, and store the result in a variable called `sorted_scores`:"
   ]
  },
  {
   "cell_type": "code",
   "execution_count": null,
   "metadata": {},
   "outputs": [],
   "source": [
    "sorted_scores = np.sort(psychosis_score_200_patients) #!!! replace with ...\n",
    "\n",
    "\n",
    "#show the sorted scores\n",
    "sorted_scores"
   ]
  },
  {
   "cell_type": "code",
   "execution_count": null,
   "metadata": {},
   "outputs": [],
   "source": [
    "_ = ok.grade('q7')"
   ]
  },
  {
   "cell_type": "markdown",
   "metadata": {},
   "source": [
    "## LINK BACK TO MEDIAN DIFFERENCE QUESTION EARLIER, TO USE ROUND FUNCTION, EXTRA QUESTION"
   ]
  },
  {
   "cell_type": "markdown",
   "metadata": {},
   "source": [
    "## Plotting Functions\n",
    "\n",
    "One useful type of functions are those used for plotting, that is, for creating graphical displays of data:\n",
    "\n",
    "<i><center>'The dominant task of the human cortex is to extract visual information from the activity patterns on the retina. Our visual system is therefore exceedingly good at detecting patterns in visualized data sets. As a result, one can almost always see what is happening before it can be demonstrated through a quantitative analysis of the data. Visual data displays are also helpful at finding extreme data values, which are often caused by [...] mistakes in the data acquisition.'</i> </center>\n",
    "<center>(page 51, Haslwanter, 2016, An Introduction to Statistics with Python)</center>\n",
    "\n",
    "\n",
    "[SET UP GREATER DATA COLLECTION SCENARIO, SHOW SOME NICE PLOTS AND EXPLAIN HOW THEY ARE USEFUL FOR DIFFERENT TYPES OF DATA]\n",
    "\n",
    "[RANDOMLY GENERATE DATA, SHOW THESE GRAPHS:\n",
    "\n",
    "* Bar plot (categorical)\n",
    "* Bar plot (ordinal)\n",
    "* Histogram (quantitative)\n",
    "* Scatterplot\n",
    "\n",
    "\n",
    "*MARK USING IMAGES, EG GENERATE CORRECT GRAPH YOURSELF, define pre-existing hint functions to help users who get stuck*"
   ]
  },
  {
   "cell_type": "code",
   "execution_count": null,
   "metadata": {},
   "outputs": [],
   "source": [
    "plt.hist(psychosis_score_200_patients)\n",
    "plt.show()"
   ]
  },
  {
   "cell_type": "code",
   "execution_count": null,
   "metadata": {},
   "outputs": [],
   "source": [
    "plt.scatter(psychosis_score_200_patients, num_hospitalisations)\n",
    "plt.show()"
   ]
  },
  {
   "cell_type": "code",
   "execution_count": null,
   "metadata": {},
   "outputs": [],
   "source": [
    "# write a data generating function, and import it here\n",
    "\n",
    "# show the data in one cell..\n",
    "\n",
    "# then a plot in the next"
   ]
  },
  {
   "cell_type": "code",
   "execution_count": null,
   "metadata": {},
   "outputs": [],
   "source": [
    "# For your convenience, you can run this cell to run all the tests at once!\n",
    "import os\n",
    "_ = [ok.grade(q[:-3]) for q in os.listdir(\"ok_tests/3_functions_plotting\") if q.startswith('q')]"
   ]
  },
  {
   "cell_type": "markdown",
   "metadata": {},
   "source": [
    "Or, you can [return to the main page](0_main_page.ipynb).\n",
    "\n",
    "To navigate to any other page, the table of contents is below:\n",
    "\n",
    "## Other Chapters\n",
    "\n",
    "1. [Populations, Samples & Questions: Why Learn Python?](1_populations_samples_questions.ipynb)\n",
    "2. [Lists & Indexing](2_lists_indexing.ipynb)\n",
    "3. [Functions & Plotting](3_functions_plotting.ipynb)\n",
    "4. [Arrays & Boolean Indexing](4_arrays_booleans.ipynb)\n",
    "5. [For Loops - doing things over (and over and over...)](5_for_loops.ipynb)\n",
    "6. [Testing via Simulation: Psychosis Prevalence](6_simulation_psychosis_prevalence.ipynb)"
   ]
  },
  {
   "cell_type": "markdown",
   "metadata": {},
   "source": [
    "***\n",
    "By [pxr687](99_about_the_author.ipynb) "
   ]
  },
  {
   "cell_type": "code",
   "execution_count": null,
   "metadata": {},
   "outputs": [],
   "source": []
  },
  {
   "cell_type": "code",
   "execution_count": null,
   "metadata": {},
   "outputs": [],
   "source": []
  }
 ],
 "metadata": {
  "kernelspec": {
   "display_name": "Python 3",
   "language": "python",
   "name": "python3"
  },
  "language_info": {
   "codemirror_mode": {
    "name": "ipython",
    "version": 3
   },
   "file_extension": ".py",
   "mimetype": "text/x-python",
   "name": "python",
   "nbconvert_exporter": "python",
   "pygments_lexer": "ipython3",
   "version": "3.7.3"
  }
 },
 "nbformat": 4,
 "nbformat_minor": 2
}
