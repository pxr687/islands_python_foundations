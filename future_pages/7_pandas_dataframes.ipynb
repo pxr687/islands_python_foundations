{
 "cells": [
  {
   "cell_type": "markdown",
   "id": "choice-scenario",
   "metadata": {},
   "source": [
    "###  Python Foundations Chapter 7:\n",
    "\n",
    "[Back to Main Page](0_main_page.ipynb)\n",
    "\n",
    "<h1> <center> Pandas & Dataframes </center> </h1>"
   ]
  },
  {
   "cell_type": "markdown",
   "id": "demonstrated-cooking",
   "metadata": {},
   "source": [
    "Or, you can [return to the main page](0_main_page.ipynb)."
   ]
  },
  {
   "cell_type": "markdown",
   "id": "respiratory-attempt",
   "metadata": {},
   "source": [
    "***\n",
    "By [pxr687](99_about_the_author.ipynb) "
   ]
  }
 ],
 "metadata": {
  "jupytext": {
   "text_representation": {
    "extension": ".Rmd",
    "format_name": "rmarkdown",
    "format_version": "1.2",
    "jupytext_version": "1.10.1"
   }
  },
  "kernelspec": {
   "display_name": "Python 3",
   "language": "python",
   "name": "python3"
  },
  "language_info": {
   "codemirror_mode": {
    "name": "ipython",
    "version": 3
   },
   "file_extension": ".py",
   "mimetype": "text/x-python",
   "name": "python",
   "nbconvert_exporter": "python",
   "pygments_lexer": "ipython3",
   "version": "3.7.9"
  }
 },
 "nbformat": 4,
 "nbformat_minor": 5
}
