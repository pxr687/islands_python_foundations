{
 "cells": [
  {
   "cell_type": "markdown",
   "metadata": {},
   "source": [
    "<h1> <center> Islands: Python Foundations for Data Analysis </center> </h1>\n",
    "\n",
    "<br>\n",
    "<center><img src = \"https://github.com/pxr687/islands_python_foundations/blob/master/images/islands_main.png?raw=true\" width = 270></center>\n",
    "\n",
    "\n",
    "By [pxr687](99_about_the_author.ipynb) "
   ]
  },
  {
   "cell_type": "markdown",
   "metadata": {},
   "source": [
    "## Contents\n",
    "\n",
    "1. [Populations, Samples & Questions: Why Learn Python?](1_populations_samples_questions.ipynb)\n",
    "2. [Lists & Indexing](2_lists_indexing.ipynb)\n",
    "3. [Arrays & Boolean Indexing](3_arrays_booleans.ipynb)\n",
    "4. [Functions, Plotting & Another Clinical Trial](4_functions_plotting.ipynb)\n",
    "5. [For Loops - doing things over (and over and over...)](5_for_loops.ipynb)\n",
    "6. [Testing via Simulation: Psychosis Prevalence](6_simulation_psychosis_prevalence.ipynb)\n",
    "7. [Pandas DataFrames](7_pandas_dataframes.ipynb)\n",
    "8. [Testing via Simulation II: Pollutant Exposure](8_simulation_pollution_impairment.ipynb)\n",
    "\n",
    "Other pages: <br>\n",
    "[Permutation Test Question Generator](99_permutation_test_question_gen.ipynb)\n",
    "\n",
    "\n",
    "\n",
    "## Who this book is for\n",
    "This book is for anyone who wants to learn fundamental python programming for data analysis. It has exercises and marking integrated into the book chapters, so learning and practice can happen simultaneously. See the sections at the bottom of this page for instructions about how to use the integrated exercises.\n",
    "\n",
    "This book will also teach some statistical concepts, using a nonmathematical approach. This may sound paradoxical, but the power of code allows us to test statistical hypotheses without the use of (complex) mathematical formulae. As such, <b> this book does not require any prior knowledge or either coding or statistics</b>. In the future, I intend to write other textbooks which will cover a mathematical approach to statistics.\n",
    "\n",
    "This book is written to be read through sequentially, with each page building on the last. However, I have also tried to keep each page understandable in a standalone sense. Links back to earlier pages, or other resources, are provided throughout. \n",
    "\n",
    "Most of this book uses simulated data for the purposes of teaching and illustration. However, the book builds towards a real data analysis of a brain health-related hypothesis in the (forthcoming) final chapter. \n",
    "\n",
    "This book is intended as a *brief* introduction to python. My hope is that it can be worked through quickly - and that through the integrated exercises - it will give the reader a grasp of the fundamental tools of python in a relatively short span of time. To go deeper than this, there are bigger, [more in-depth online textbooks](https://uob-ds.github.io/cfd2021/intro.html) which cover more ground than this one.\n",
    "\n",
    "\n",
    "## How to use the exercises in this book (on Deepnote)\n",
    "\n",
    "This textbook is intended to be used interactively on Deepnote. As mentioned above, most pages have built-in exercises, as well as sections that will mark the reader's answers to the exercises. Using the textbook on Deepnote means you do not have to install anything locally on your computer.\n",
    "\n",
    "[For instructions about how to use this book interactively on Deepnote, please see click here](99_how_to_use_this_book.ipynb).\n",
    "\n",
    "## How to use the exercises in this book (locally, on your computer)\n",
    "\n",
    "You can also download the textbook and use it locally on your computer, though you will have to install some software if you do not already have it.\n",
    "\n",
    "[For instructions about how to download this book and use it locally on your computer, please click here](99_how_to_use_this_book_local.ipynb)."
   ]
  },
  {
   "cell_type": "code",
   "execution_count": null,
   "metadata": {},
   "outputs": [],
   "source": []
  }
 ],
 "metadata": {
  "kernelspec": {
   "display_name": "Python 3",
   "language": "python",
   "name": "python3"
  },
  "language_info": {
   "codemirror_mode": {
    "name": "ipython",
    "version": 3
   },
   "file_extension": ".py",
   "mimetype": "text/x-python",
   "name": "python",
   "nbconvert_exporter": "python",
   "pygments_lexer": "ipython3",
   "version": "3.7.3"
  }
 },
 "nbformat": 4,
 "nbformat_minor": 5
}
